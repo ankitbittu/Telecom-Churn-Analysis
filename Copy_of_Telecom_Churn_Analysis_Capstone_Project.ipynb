{
  "nbformat": 4,
  "nbformat_minor": 0,
  "metadata": {
    "kernelspec": {
      "display_name": "Python 3",
      "language": "python",
      "name": "python3"
    },
    "language_info": {
      "codemirror_mode": {
        "name": "ipython",
        "version": 3
      },
      "file_extension": ".py",
      "mimetype": "text/x-python",
      "name": "python",
      "nbconvert_exporter": "python",
      "pygments_lexer": "ipython3",
      "version": "3.6.6"
    },
    "colab": {
      "name": "Copy of Telecom Churn Analysis - Capstone Project.ipynb",
      "provenance": [],
      "collapsed_sections": [],
      "include_colab_link": true
    }
  },
  "cells": [
    {
      "cell_type": "markdown",
      "metadata": {
        "id": "view-in-github",
        "colab_type": "text"
      },
      "source": [
        "<a href=\"https://colab.research.google.com/github/ankitbittu/Telecom-Churn-Analysis/blob/main/Copy_of_Telecom_Churn_Analysis_Capstone_Project.ipynb\" target=\"_parent\"><img src=\"https://colab.research.google.com/assets/colab-badge.svg\" alt=\"Open In Colab\"/></a>"
      ]
    },
    {
      "cell_type": "markdown",
      "metadata": {
        "id": "Y06xIdG26kRF"
      },
      "source": [
        "## <b> Orange S.A., formerly France Télécom S.A., is a French multinational telecommunications corporation. The Orange Telecom's Churn Dataset, consists of cleaned customer activity data (features), along with a churn label specifying whether a customer canceled the subscription.\n",
        "\n",
        "## <b> Explore and analyze the data to discover key factors responsible for customer churn and come up with ways/recommendations to ensure customer retention. </b>"
      ]
    },
    {
      "cell_type": "code",
      "metadata": {
        "id": "dByMsuzT8Tnw"
      },
      "source": [
        "import pandas as pd\n",
        "import numpy as np\n",
        "import matplotlib.pyplot as plt\n",
        "import seaborn as sb"
      ],
      "execution_count": 1,
      "outputs": []
    },
    {
      "cell_type": "code",
      "metadata": {
        "colab": {
          "base_uri": "https://localhost:8080/"
        },
        "id": "mZH_GWr0sqC-",
        "outputId": "448b7871-746c-416c-d652-abcedf6bcccd"
      },
      "source": [
        "from google.colab import drive\n",
        "drive.mount('/content/drive')\n"
      ],
      "execution_count": 2,
      "outputs": [
        {
          "output_type": "stream",
          "text": [
            "Mounted at /content/drive\n"
          ],
          "name": "stdout"
        }
      ]
    },
    {
      "cell_type": "code",
      "metadata": {
        "id": "j6d1BnGjs1_G"
      },
      "source": [
        "file_path = '/content/drive/MyDrive/Almabetter/Capstone project 1/Copy of Telecom Churn.csv'\n",
        "telecom_df=pd.read_csv(file_path)"
      ],
      "execution_count": 3,
      "outputs": []
    },
    {
      "cell_type": "markdown",
      "metadata": {
        "id": "PDhPr-tQUAX_"
      },
      "source": [
        "# **Understanding the columns present in the dataset**\n",
        "\n",
        "\n",
        "\n",
        "\n",
        "1.   **State**: There are 51 unique states present in the data set.\n",
        "2.   **Account Length**: It denotes the number of days till which customer used the service.\n",
        "3.   **Area Code**: 3 unique area codes are present - 408, 415, 510\n",
        "4.   **International plan** : It contains Yes/No pair, where Yes is customer is using the International plan and No means there is no any such plan.\n",
        "5.   **Voice Mail Plan**: Similar as above, Yes means customer is using this plan and no means there is no any such plan.\n",
        "\n",
        "6.   **Number vmail messages**: Customers using the facility of Voice mail plan send the vmail messages which range from 0 to 50.\n",
        "\n",
        "7.   **Total day minutes**: Number of minutes talked by customers during the day time.\n",
        "\n",
        "8.   **Total day calls**: Number of calls made by customers during the day.\n",
        "\n",
        "9.   **Total day charge**: Charges incurred by customer during the day.\n",
        "\n",
        "10.  **Total eve minutes**: Number of minutes talked by customers during the evening minutes.\n",
        "\n",
        "11.  **Total eve calls**: Number of calls made by customers during the day.\n",
        "\n",
        "12.  **Total eve charge**: Charges incurred by customer during evening.\n",
        "\n",
        "13.  **Total night minutes**: Number of minutes talked by customers during the night minutes.\n",
        "\n",
        "\n",
        "14.  **Total night calls**: Number of calls made by customers during the day.\n",
        "\n",
        "15.  **Total night charge**: Charges incurred by customer during night time.\n",
        "\n",
        "16.  **Total intl minutes**: Number of minutes talked by customers during the international minutes.\n",
        "\n",
        "\n",
        "17.  **Total intl calls**: Number of calls made by customers during the day.\n",
        "\n",
        "18.  **Total intl charge**: Charges incurred by customer for international calling.\n",
        "\n",
        "19.  **Customer service calls**: Denotes the number of customer service calls performed by the user.\n",
        "\n",
        "20.  **Churn**: Denotes whether customer has churned or not, True indicates Customer has churned while False indicates customer has not churned."
      ]
    },
    {
      "cell_type": "code",
      "metadata": {
        "colab": {
          "base_uri": "https://localhost:8080/",
          "height": 237
        },
        "id": "qwwq6TbetKHU",
        "outputId": "da038eac-48e9-4d0c-a0d5-6cd21cd65386"
      },
      "source": [
        "telecom_df.head()"
      ],
      "execution_count": 4,
      "outputs": [
        {
          "output_type": "execute_result",
          "data": {
            "text/html": [
              "<div>\n",
              "<style scoped>\n",
              "    .dataframe tbody tr th:only-of-type {\n",
              "        vertical-align: middle;\n",
              "    }\n",
              "\n",
              "    .dataframe tbody tr th {\n",
              "        vertical-align: top;\n",
              "    }\n",
              "\n",
              "    .dataframe thead th {\n",
              "        text-align: right;\n",
              "    }\n",
              "</style>\n",
              "<table border=\"1\" class=\"dataframe\">\n",
              "  <thead>\n",
              "    <tr style=\"text-align: right;\">\n",
              "      <th></th>\n",
              "      <th>State</th>\n",
              "      <th>Account length</th>\n",
              "      <th>Area code</th>\n",
              "      <th>International plan</th>\n",
              "      <th>Voice mail plan</th>\n",
              "      <th>Number vmail messages</th>\n",
              "      <th>Total day minutes</th>\n",
              "      <th>Total day calls</th>\n",
              "      <th>Total day charge</th>\n",
              "      <th>Total eve minutes</th>\n",
              "      <th>Total eve calls</th>\n",
              "      <th>Total eve charge</th>\n",
              "      <th>Total night minutes</th>\n",
              "      <th>Total night calls</th>\n",
              "      <th>Total night charge</th>\n",
              "      <th>Total intl minutes</th>\n",
              "      <th>Total intl calls</th>\n",
              "      <th>Total intl charge</th>\n",
              "      <th>Customer service calls</th>\n",
              "      <th>Churn</th>\n",
              "    </tr>\n",
              "  </thead>\n",
              "  <tbody>\n",
              "    <tr>\n",
              "      <th>0</th>\n",
              "      <td>KS</td>\n",
              "      <td>128</td>\n",
              "      <td>415</td>\n",
              "      <td>No</td>\n",
              "      <td>Yes</td>\n",
              "      <td>25</td>\n",
              "      <td>265.1</td>\n",
              "      <td>110</td>\n",
              "      <td>45.07</td>\n",
              "      <td>197.4</td>\n",
              "      <td>99</td>\n",
              "      <td>16.78</td>\n",
              "      <td>244.7</td>\n",
              "      <td>91</td>\n",
              "      <td>11.01</td>\n",
              "      <td>10.0</td>\n",
              "      <td>3</td>\n",
              "      <td>2.70</td>\n",
              "      <td>1</td>\n",
              "      <td>False</td>\n",
              "    </tr>\n",
              "    <tr>\n",
              "      <th>1</th>\n",
              "      <td>OH</td>\n",
              "      <td>107</td>\n",
              "      <td>415</td>\n",
              "      <td>No</td>\n",
              "      <td>Yes</td>\n",
              "      <td>26</td>\n",
              "      <td>161.6</td>\n",
              "      <td>123</td>\n",
              "      <td>27.47</td>\n",
              "      <td>195.5</td>\n",
              "      <td>103</td>\n",
              "      <td>16.62</td>\n",
              "      <td>254.4</td>\n",
              "      <td>103</td>\n",
              "      <td>11.45</td>\n",
              "      <td>13.7</td>\n",
              "      <td>3</td>\n",
              "      <td>3.70</td>\n",
              "      <td>1</td>\n",
              "      <td>False</td>\n",
              "    </tr>\n",
              "    <tr>\n",
              "      <th>2</th>\n",
              "      <td>NJ</td>\n",
              "      <td>137</td>\n",
              "      <td>415</td>\n",
              "      <td>No</td>\n",
              "      <td>No</td>\n",
              "      <td>0</td>\n",
              "      <td>243.4</td>\n",
              "      <td>114</td>\n",
              "      <td>41.38</td>\n",
              "      <td>121.2</td>\n",
              "      <td>110</td>\n",
              "      <td>10.30</td>\n",
              "      <td>162.6</td>\n",
              "      <td>104</td>\n",
              "      <td>7.32</td>\n",
              "      <td>12.2</td>\n",
              "      <td>5</td>\n",
              "      <td>3.29</td>\n",
              "      <td>0</td>\n",
              "      <td>False</td>\n",
              "    </tr>\n",
              "    <tr>\n",
              "      <th>3</th>\n",
              "      <td>OH</td>\n",
              "      <td>84</td>\n",
              "      <td>408</td>\n",
              "      <td>Yes</td>\n",
              "      <td>No</td>\n",
              "      <td>0</td>\n",
              "      <td>299.4</td>\n",
              "      <td>71</td>\n",
              "      <td>50.90</td>\n",
              "      <td>61.9</td>\n",
              "      <td>88</td>\n",
              "      <td>5.26</td>\n",
              "      <td>196.9</td>\n",
              "      <td>89</td>\n",
              "      <td>8.86</td>\n",
              "      <td>6.6</td>\n",
              "      <td>7</td>\n",
              "      <td>1.78</td>\n",
              "      <td>2</td>\n",
              "      <td>False</td>\n",
              "    </tr>\n",
              "    <tr>\n",
              "      <th>4</th>\n",
              "      <td>OK</td>\n",
              "      <td>75</td>\n",
              "      <td>415</td>\n",
              "      <td>Yes</td>\n",
              "      <td>No</td>\n",
              "      <td>0</td>\n",
              "      <td>166.7</td>\n",
              "      <td>113</td>\n",
              "      <td>28.34</td>\n",
              "      <td>148.3</td>\n",
              "      <td>122</td>\n",
              "      <td>12.61</td>\n",
              "      <td>186.9</td>\n",
              "      <td>121</td>\n",
              "      <td>8.41</td>\n",
              "      <td>10.1</td>\n",
              "      <td>3</td>\n",
              "      <td>2.73</td>\n",
              "      <td>3</td>\n",
              "      <td>False</td>\n",
              "    </tr>\n",
              "  </tbody>\n",
              "</table>\n",
              "</div>"
            ],
            "text/plain": [
              "  State  Account length  ...  Customer service calls  Churn\n",
              "0    KS             128  ...                       1  False\n",
              "1    OH             107  ...                       1  False\n",
              "2    NJ             137  ...                       0  False\n",
              "3    OH              84  ...                       2  False\n",
              "4    OK              75  ...                       3  False\n",
              "\n",
              "[5 rows x 20 columns]"
            ]
          },
          "metadata": {
            "tags": []
          },
          "execution_count": 4
        }
      ]
    },
    {
      "cell_type": "code",
      "metadata": {
        "colab": {
          "base_uri": "https://localhost:8080/",
          "height": 237
        },
        "id": "qpHGI1enxw1A",
        "outputId": "6ea03a7e-89fe-46de-a755-a3f4442a346d"
      },
      "source": [
        "telecom_df.tail()"
      ],
      "execution_count": 5,
      "outputs": [
        {
          "output_type": "execute_result",
          "data": {
            "text/html": [
              "<div>\n",
              "<style scoped>\n",
              "    .dataframe tbody tr th:only-of-type {\n",
              "        vertical-align: middle;\n",
              "    }\n",
              "\n",
              "    .dataframe tbody tr th {\n",
              "        vertical-align: top;\n",
              "    }\n",
              "\n",
              "    .dataframe thead th {\n",
              "        text-align: right;\n",
              "    }\n",
              "</style>\n",
              "<table border=\"1\" class=\"dataframe\">\n",
              "  <thead>\n",
              "    <tr style=\"text-align: right;\">\n",
              "      <th></th>\n",
              "      <th>State</th>\n",
              "      <th>Account length</th>\n",
              "      <th>Area code</th>\n",
              "      <th>International plan</th>\n",
              "      <th>Voice mail plan</th>\n",
              "      <th>Number vmail messages</th>\n",
              "      <th>Total day minutes</th>\n",
              "      <th>Total day calls</th>\n",
              "      <th>Total day charge</th>\n",
              "      <th>Total eve minutes</th>\n",
              "      <th>Total eve calls</th>\n",
              "      <th>Total eve charge</th>\n",
              "      <th>Total night minutes</th>\n",
              "      <th>Total night calls</th>\n",
              "      <th>Total night charge</th>\n",
              "      <th>Total intl minutes</th>\n",
              "      <th>Total intl calls</th>\n",
              "      <th>Total intl charge</th>\n",
              "      <th>Customer service calls</th>\n",
              "      <th>Churn</th>\n",
              "    </tr>\n",
              "  </thead>\n",
              "  <tbody>\n",
              "    <tr>\n",
              "      <th>3328</th>\n",
              "      <td>AZ</td>\n",
              "      <td>192</td>\n",
              "      <td>415</td>\n",
              "      <td>No</td>\n",
              "      <td>Yes</td>\n",
              "      <td>36</td>\n",
              "      <td>156.2</td>\n",
              "      <td>77</td>\n",
              "      <td>26.55</td>\n",
              "      <td>215.5</td>\n",
              "      <td>126</td>\n",
              "      <td>18.32</td>\n",
              "      <td>279.1</td>\n",
              "      <td>83</td>\n",
              "      <td>12.56</td>\n",
              "      <td>9.9</td>\n",
              "      <td>6</td>\n",
              "      <td>2.67</td>\n",
              "      <td>2</td>\n",
              "      <td>False</td>\n",
              "    </tr>\n",
              "    <tr>\n",
              "      <th>3329</th>\n",
              "      <td>WV</td>\n",
              "      <td>68</td>\n",
              "      <td>415</td>\n",
              "      <td>No</td>\n",
              "      <td>No</td>\n",
              "      <td>0</td>\n",
              "      <td>231.1</td>\n",
              "      <td>57</td>\n",
              "      <td>39.29</td>\n",
              "      <td>153.4</td>\n",
              "      <td>55</td>\n",
              "      <td>13.04</td>\n",
              "      <td>191.3</td>\n",
              "      <td>123</td>\n",
              "      <td>8.61</td>\n",
              "      <td>9.6</td>\n",
              "      <td>4</td>\n",
              "      <td>2.59</td>\n",
              "      <td>3</td>\n",
              "      <td>False</td>\n",
              "    </tr>\n",
              "    <tr>\n",
              "      <th>3330</th>\n",
              "      <td>RI</td>\n",
              "      <td>28</td>\n",
              "      <td>510</td>\n",
              "      <td>No</td>\n",
              "      <td>No</td>\n",
              "      <td>0</td>\n",
              "      <td>180.8</td>\n",
              "      <td>109</td>\n",
              "      <td>30.74</td>\n",
              "      <td>288.8</td>\n",
              "      <td>58</td>\n",
              "      <td>24.55</td>\n",
              "      <td>191.9</td>\n",
              "      <td>91</td>\n",
              "      <td>8.64</td>\n",
              "      <td>14.1</td>\n",
              "      <td>6</td>\n",
              "      <td>3.81</td>\n",
              "      <td>2</td>\n",
              "      <td>False</td>\n",
              "    </tr>\n",
              "    <tr>\n",
              "      <th>3331</th>\n",
              "      <td>CT</td>\n",
              "      <td>184</td>\n",
              "      <td>510</td>\n",
              "      <td>Yes</td>\n",
              "      <td>No</td>\n",
              "      <td>0</td>\n",
              "      <td>213.8</td>\n",
              "      <td>105</td>\n",
              "      <td>36.35</td>\n",
              "      <td>159.6</td>\n",
              "      <td>84</td>\n",
              "      <td>13.57</td>\n",
              "      <td>139.2</td>\n",
              "      <td>137</td>\n",
              "      <td>6.26</td>\n",
              "      <td>5.0</td>\n",
              "      <td>10</td>\n",
              "      <td>1.35</td>\n",
              "      <td>2</td>\n",
              "      <td>False</td>\n",
              "    </tr>\n",
              "    <tr>\n",
              "      <th>3332</th>\n",
              "      <td>TN</td>\n",
              "      <td>74</td>\n",
              "      <td>415</td>\n",
              "      <td>No</td>\n",
              "      <td>Yes</td>\n",
              "      <td>25</td>\n",
              "      <td>234.4</td>\n",
              "      <td>113</td>\n",
              "      <td>39.85</td>\n",
              "      <td>265.9</td>\n",
              "      <td>82</td>\n",
              "      <td>22.60</td>\n",
              "      <td>241.4</td>\n",
              "      <td>77</td>\n",
              "      <td>10.86</td>\n",
              "      <td>13.7</td>\n",
              "      <td>4</td>\n",
              "      <td>3.70</td>\n",
              "      <td>0</td>\n",
              "      <td>False</td>\n",
              "    </tr>\n",
              "  </tbody>\n",
              "</table>\n",
              "</div>"
            ],
            "text/plain": [
              "     State  Account length  ...  Customer service calls  Churn\n",
              "3328    AZ             192  ...                       2  False\n",
              "3329    WV              68  ...                       3  False\n",
              "3330    RI              28  ...                       2  False\n",
              "3331    CT             184  ...                       2  False\n",
              "3332    TN              74  ...                       0  False\n",
              "\n",
              "[5 rows x 20 columns]"
            ]
          },
          "metadata": {
            "tags": []
          },
          "execution_count": 5
        }
      ]
    },
    {
      "cell_type": "code",
      "metadata": {
        "colab": {
          "base_uri": "https://localhost:8080/"
        },
        "id": "sFtSDlnltPkL",
        "outputId": "2e4e805e-b77a-4f2e-9b14-d471524c5927"
      },
      "source": [
        "telecom_df.shape"
      ],
      "execution_count": 6,
      "outputs": [
        {
          "output_type": "execute_result",
          "data": {
            "text/plain": [
              "(3333, 20)"
            ]
          },
          "metadata": {
            "tags": []
          },
          "execution_count": 6
        }
      ]
    },
    {
      "cell_type": "code",
      "metadata": {
        "colab": {
          "base_uri": "https://localhost:8080/"
        },
        "id": "x9560SaBthjf",
        "outputId": "1e3f9a82-fe09-4ecf-9fbf-dc6609d8af47"
      },
      "source": [
        "telecom_df.info()"
      ],
      "execution_count": 7,
      "outputs": [
        {
          "output_type": "stream",
          "text": [
            "<class 'pandas.core.frame.DataFrame'>\n",
            "RangeIndex: 3333 entries, 0 to 3332\n",
            "Data columns (total 20 columns):\n",
            " #   Column                  Non-Null Count  Dtype  \n",
            "---  ------                  --------------  -----  \n",
            " 0   State                   3333 non-null   object \n",
            " 1   Account length          3333 non-null   int64  \n",
            " 2   Area code               3333 non-null   int64  \n",
            " 3   International plan      3333 non-null   object \n",
            " 4   Voice mail plan         3333 non-null   object \n",
            " 5   Number vmail messages   3333 non-null   int64  \n",
            " 6   Total day minutes       3333 non-null   float64\n",
            " 7   Total day calls         3333 non-null   int64  \n",
            " 8   Total day charge        3333 non-null   float64\n",
            " 9   Total eve minutes       3333 non-null   float64\n",
            " 10  Total eve calls         3333 non-null   int64  \n",
            " 11  Total eve charge        3333 non-null   float64\n",
            " 12  Total night minutes     3333 non-null   float64\n",
            " 13  Total night calls       3333 non-null   int64  \n",
            " 14  Total night charge      3333 non-null   float64\n",
            " 15  Total intl minutes      3333 non-null   float64\n",
            " 16  Total intl calls        3333 non-null   int64  \n",
            " 17  Total intl charge       3333 non-null   float64\n",
            " 18  Customer service calls  3333 non-null   int64  \n",
            " 19  Churn                   3333 non-null   bool   \n",
            "dtypes: bool(1), float64(8), int64(8), object(3)\n",
            "memory usage: 498.1+ KB\n"
          ],
          "name": "stdout"
        }
      ]
    },
    {
      "cell_type": "markdown",
      "metadata": {
        "id": "RarKyEU_x5Wc"
      },
      "source": [
        "There are no any null values present in any row. So, need to clean the data for null values.\n",
        "\n",
        "There are also different kinds of dtype objects are present.\n",
        "\n",
        "Converting the dtype of International plan and Voice mail plan from object to bool to make easier analysis on these columns.\n"
      ]
    },
    {
      "cell_type": "code",
      "metadata": {
        "id": "eFTYKcb83cY-"
      },
      "source": [
        "telecom_df['International plan'] = telecom_df['International plan'].replace({'Yes':True,'No':False})\n",
        "telecom_df['Voice mail plan'] = telecom_df['Voice mail plan'].replace({'Yes':True,'No':False})"
      ],
      "execution_count": 8,
      "outputs": []
    },
    {
      "cell_type": "code",
      "metadata": {
        "colab": {
          "base_uri": "https://localhost:8080/",
          "height": 237
        },
        "id": "se5uY8EV4iq2",
        "outputId": "b5526312-db9f-47e0-95c2-c8562c59bafd"
      },
      "source": [
        "telecom_df.head()"
      ],
      "execution_count": 9,
      "outputs": [
        {
          "output_type": "execute_result",
          "data": {
            "text/html": [
              "<div>\n",
              "<style scoped>\n",
              "    .dataframe tbody tr th:only-of-type {\n",
              "        vertical-align: middle;\n",
              "    }\n",
              "\n",
              "    .dataframe tbody tr th {\n",
              "        vertical-align: top;\n",
              "    }\n",
              "\n",
              "    .dataframe thead th {\n",
              "        text-align: right;\n",
              "    }\n",
              "</style>\n",
              "<table border=\"1\" class=\"dataframe\">\n",
              "  <thead>\n",
              "    <tr style=\"text-align: right;\">\n",
              "      <th></th>\n",
              "      <th>State</th>\n",
              "      <th>Account length</th>\n",
              "      <th>Area code</th>\n",
              "      <th>International plan</th>\n",
              "      <th>Voice mail plan</th>\n",
              "      <th>Number vmail messages</th>\n",
              "      <th>Total day minutes</th>\n",
              "      <th>Total day calls</th>\n",
              "      <th>Total day charge</th>\n",
              "      <th>Total eve minutes</th>\n",
              "      <th>Total eve calls</th>\n",
              "      <th>Total eve charge</th>\n",
              "      <th>Total night minutes</th>\n",
              "      <th>Total night calls</th>\n",
              "      <th>Total night charge</th>\n",
              "      <th>Total intl minutes</th>\n",
              "      <th>Total intl calls</th>\n",
              "      <th>Total intl charge</th>\n",
              "      <th>Customer service calls</th>\n",
              "      <th>Churn</th>\n",
              "    </tr>\n",
              "  </thead>\n",
              "  <tbody>\n",
              "    <tr>\n",
              "      <th>0</th>\n",
              "      <td>KS</td>\n",
              "      <td>128</td>\n",
              "      <td>415</td>\n",
              "      <td>False</td>\n",
              "      <td>True</td>\n",
              "      <td>25</td>\n",
              "      <td>265.1</td>\n",
              "      <td>110</td>\n",
              "      <td>45.07</td>\n",
              "      <td>197.4</td>\n",
              "      <td>99</td>\n",
              "      <td>16.78</td>\n",
              "      <td>244.7</td>\n",
              "      <td>91</td>\n",
              "      <td>11.01</td>\n",
              "      <td>10.0</td>\n",
              "      <td>3</td>\n",
              "      <td>2.70</td>\n",
              "      <td>1</td>\n",
              "      <td>False</td>\n",
              "    </tr>\n",
              "    <tr>\n",
              "      <th>1</th>\n",
              "      <td>OH</td>\n",
              "      <td>107</td>\n",
              "      <td>415</td>\n",
              "      <td>False</td>\n",
              "      <td>True</td>\n",
              "      <td>26</td>\n",
              "      <td>161.6</td>\n",
              "      <td>123</td>\n",
              "      <td>27.47</td>\n",
              "      <td>195.5</td>\n",
              "      <td>103</td>\n",
              "      <td>16.62</td>\n",
              "      <td>254.4</td>\n",
              "      <td>103</td>\n",
              "      <td>11.45</td>\n",
              "      <td>13.7</td>\n",
              "      <td>3</td>\n",
              "      <td>3.70</td>\n",
              "      <td>1</td>\n",
              "      <td>False</td>\n",
              "    </tr>\n",
              "    <tr>\n",
              "      <th>2</th>\n",
              "      <td>NJ</td>\n",
              "      <td>137</td>\n",
              "      <td>415</td>\n",
              "      <td>False</td>\n",
              "      <td>False</td>\n",
              "      <td>0</td>\n",
              "      <td>243.4</td>\n",
              "      <td>114</td>\n",
              "      <td>41.38</td>\n",
              "      <td>121.2</td>\n",
              "      <td>110</td>\n",
              "      <td>10.30</td>\n",
              "      <td>162.6</td>\n",
              "      <td>104</td>\n",
              "      <td>7.32</td>\n",
              "      <td>12.2</td>\n",
              "      <td>5</td>\n",
              "      <td>3.29</td>\n",
              "      <td>0</td>\n",
              "      <td>False</td>\n",
              "    </tr>\n",
              "    <tr>\n",
              "      <th>3</th>\n",
              "      <td>OH</td>\n",
              "      <td>84</td>\n",
              "      <td>408</td>\n",
              "      <td>True</td>\n",
              "      <td>False</td>\n",
              "      <td>0</td>\n",
              "      <td>299.4</td>\n",
              "      <td>71</td>\n",
              "      <td>50.90</td>\n",
              "      <td>61.9</td>\n",
              "      <td>88</td>\n",
              "      <td>5.26</td>\n",
              "      <td>196.9</td>\n",
              "      <td>89</td>\n",
              "      <td>8.86</td>\n",
              "      <td>6.6</td>\n",
              "      <td>7</td>\n",
              "      <td>1.78</td>\n",
              "      <td>2</td>\n",
              "      <td>False</td>\n",
              "    </tr>\n",
              "    <tr>\n",
              "      <th>4</th>\n",
              "      <td>OK</td>\n",
              "      <td>75</td>\n",
              "      <td>415</td>\n",
              "      <td>True</td>\n",
              "      <td>False</td>\n",
              "      <td>0</td>\n",
              "      <td>166.7</td>\n",
              "      <td>113</td>\n",
              "      <td>28.34</td>\n",
              "      <td>148.3</td>\n",
              "      <td>122</td>\n",
              "      <td>12.61</td>\n",
              "      <td>186.9</td>\n",
              "      <td>121</td>\n",
              "      <td>8.41</td>\n",
              "      <td>10.1</td>\n",
              "      <td>3</td>\n",
              "      <td>2.73</td>\n",
              "      <td>3</td>\n",
              "      <td>False</td>\n",
              "    </tr>\n",
              "  </tbody>\n",
              "</table>\n",
              "</div>"
            ],
            "text/plain": [
              "  State  Account length  ...  Customer service calls  Churn\n",
              "0    KS             128  ...                       1  False\n",
              "1    OH             107  ...                       1  False\n",
              "2    NJ             137  ...                       0  False\n",
              "3    OH              84  ...                       2  False\n",
              "4    OK              75  ...                       3  False\n",
              "\n",
              "[5 rows x 20 columns]"
            ]
          },
          "metadata": {
            "tags": []
          },
          "execution_count": 9
        }
      ]
    },
    {
      "cell_type": "markdown",
      "metadata": {
        "id": "ypAhQpEt5Cr-"
      },
      "source": [
        "# Finding total number of churned users"
      ]
    },
    {
      "cell_type": "code",
      "metadata": {
        "colab": {
          "base_uri": "https://localhost:8080/"
        },
        "id": "ci2H9fioaqbi",
        "outputId": "0bb49e7f-16d3-43e4-992e-7efc8415642d"
      },
      "source": [
        "telecom_df['Churn'].value_counts()"
      ],
      "execution_count": 10,
      "outputs": [
        {
          "output_type": "execute_result",
          "data": {
            "text/plain": [
              "False    2850\n",
              "True      483\n",
              "Name: Churn, dtype: int64"
            ]
          },
          "metadata": {
            "tags": []
          },
          "execution_count": 10
        }
      ]
    },
    {
      "cell_type": "markdown",
      "metadata": {
        "id": "PFdhYOhaLnT-"
      },
      "source": [
        "Out of the total 3333 customers, 2850 customers are retained and the rest 483 are churning the telecom service."
      ]
    },
    {
      "cell_type": "code",
      "metadata": {
        "colab": {
          "base_uri": "https://localhost:8080/",
          "height": 402
        },
        "id": "ihRuPzoS81u5",
        "outputId": "46e8f1b1-9e32-4c8f-a87a-0ed052c532b7"
      },
      "source": [
        "Percent_churned_users = round((telecom_df['Churn'].mean() * 100),3)\n",
        "Percent_unchurned_users = round((100 - Percent_churned_users),3)\n",
        "x = [Percent_churned_users, Percent_unchurned_users]\n",
        "labels = ['Churned users', 'Unchurned users']\n",
        "explode = [0.1, 0]\n",
        "\n",
        "fig, ax = plt.subplots(figsize=(4,3),dpi = 144)\n",
        "ax.pie(x, labels = labels,explode = explode, autopct='%1.1f%%')\n",
        "ax.set_title('Churn response')\n",
        "plt.show()"
      ],
      "execution_count": 11,
      "outputs": [
        {
          "output_type": "display_data",
          "data": {
            "image/png": "[encoded data removed]",
            "text/plain": [
              "<Figure size 576x432 with 1 Axes>"
            ]
          },
          "metadata": {
            "tags": []
          }
        }
      ]
    },
    {
      "cell_type": "markdown",
      "metadata": {
        "id": "zvbrqA_6XPw6"
      },
      "source": [
        "# Deep dive into the statistical analysis of columns which are having numerical data"
      ]
    },
    {
      "cell_type": "code",
      "metadata": {
        "colab": {
          "base_uri": "https://localhost:8080/",
          "height": 349
        },
        "id": "AtzlP9wcy-Rt",
        "outputId": "2192d14b-7de8-4a1f-b185-2e0e74537bb9"
      },
      "source": [
        "telecom_df.describe()"
      ],
      "execution_count": 12,
      "outputs": [
        {
          "output_type": "execute_result",
          "data": {
            "text/html": [
              "<div>\n",
              "<style scoped>\n",
              "    .dataframe tbody tr th:only-of-type {\n",
              "        vertical-align: middle;\n",
              "    }\n",
              "\n",
              "    .dataframe tbody tr th {\n",
              "        vertical-align: top;\n",
              "    }\n",
              "\n",
              "    .dataframe thead th {\n",
              "        text-align: right;\n",
              "    }\n",
              "</style>\n",
              "<table border=\"1\" class=\"dataframe\">\n",
              "  <thead>\n",
              "    <tr style=\"text-align: right;\">\n",
              "      <th></th>\n",
              "      <th>Account length</th>\n",
              "      <th>Area code</th>\n",
              "      <th>Number vmail messages</th>\n",
              "      <th>Total day minutes</th>\n",
              "      <th>Total day calls</th>\n",
              "      <th>Total day charge</th>\n",
              "      <th>Total eve minutes</th>\n",
              "      <th>Total eve calls</th>\n",
              "      <th>Total eve charge</th>\n",
              "      <th>Total night minutes</th>\n",
              "      <th>Total night calls</th>\n",
              "      <th>Total night charge</th>\n",
              "      <th>Total intl minutes</th>\n",
              "      <th>Total intl calls</th>\n",
              "      <th>Total intl charge</th>\n",
              "      <th>Customer service calls</th>\n",
              "    </tr>\n",
              "  </thead>\n",
              "  <tbody>\n",
              "    <tr>\n",
              "      <th>count</th>\n",
              "      <td>3333.000000</td>\n",
              "      <td>3333.000000</td>\n",
              "      <td>3333.000000</td>\n",
              "      <td>3333.000000</td>\n",
              "      <td>3333.000000</td>\n",
              "      <td>3333.000000</td>\n",
              "      <td>3333.000000</td>\n",
              "      <td>3333.000000</td>\n",
              "      <td>3333.000000</td>\n",
              "      <td>3333.000000</td>\n",
              "      <td>3333.000000</td>\n",
              "      <td>3333.000000</td>\n",
              "      <td>3333.000000</td>\n",
              "      <td>3333.000000</td>\n",
              "      <td>3333.000000</td>\n",
              "      <td>3333.000000</td>\n",
              "    </tr>\n",
              "    <tr>\n",
              "      <th>mean</th>\n",
              "      <td>101.064806</td>\n",
              "      <td>437.182418</td>\n",
              "      <td>8.099010</td>\n",
              "      <td>179.775098</td>\n",
              "      <td>100.435644</td>\n",
              "      <td>30.562307</td>\n",
              "      <td>200.980348</td>\n",
              "      <td>100.114311</td>\n",
              "      <td>17.083540</td>\n",
              "      <td>200.872037</td>\n",
              "      <td>100.107711</td>\n",
              "      <td>9.039325</td>\n",
              "      <td>10.237294</td>\n",
              "      <td>4.479448</td>\n",
              "      <td>2.764581</td>\n",
              "      <td>1.562856</td>\n",
              "    </tr>\n",
              "    <tr>\n",
              "      <th>std</th>\n",
              "      <td>39.822106</td>\n",
              "      <td>42.371290</td>\n",
              "      <td>13.688365</td>\n",
              "      <td>54.467389</td>\n",
              "      <td>20.069084</td>\n",
              "      <td>9.259435</td>\n",
              "      <td>50.713844</td>\n",
              "      <td>19.922625</td>\n",
              "      <td>4.310668</td>\n",
              "      <td>50.573847</td>\n",
              "      <td>19.568609</td>\n",
              "      <td>2.275873</td>\n",
              "      <td>2.791840</td>\n",
              "      <td>2.461214</td>\n",
              "      <td>0.753773</td>\n",
              "      <td>1.315491</td>\n",
              "    </tr>\n",
              "    <tr>\n",
              "      <th>min</th>\n",
              "      <td>1.000000</td>\n",
              "      <td>408.000000</td>\n",
              "      <td>0.000000</td>\n",
              "      <td>0.000000</td>\n",
              "      <td>0.000000</td>\n",
              "      <td>0.000000</td>\n",
              "      <td>0.000000</td>\n",
              "      <td>0.000000</td>\n",
              "      <td>0.000000</td>\n",
              "      <td>23.200000</td>\n",
              "      <td>33.000000</td>\n",
              "      <td>1.040000</td>\n",
              "      <td>0.000000</td>\n",
              "      <td>0.000000</td>\n",
              "      <td>0.000000</td>\n",
              "      <td>0.000000</td>\n",
              "    </tr>\n",
              "    <tr>\n",
              "      <th>25%</th>\n",
              "      <td>74.000000</td>\n",
              "      <td>408.000000</td>\n",
              "      <td>0.000000</td>\n",
              "      <td>143.700000</td>\n",
              "      <td>87.000000</td>\n",
              "      <td>24.430000</td>\n",
              "      <td>166.600000</td>\n",
              "      <td>87.000000</td>\n",
              "      <td>14.160000</td>\n",
              "      <td>167.000000</td>\n",
              "      <td>87.000000</td>\n",
              "      <td>7.520000</td>\n",
              "      <td>8.500000</td>\n",
              "      <td>3.000000</td>\n",
              "      <td>2.300000</td>\n",
              "      <td>1.000000</td>\n",
              "    </tr>\n",
              "    <tr>\n",
              "      <th>50%</th>\n",
              "      <td>101.000000</td>\n",
              "      <td>415.000000</td>\n",
              "      <td>0.000000</td>\n",
              "      <td>179.400000</td>\n",
              "      <td>101.000000</td>\n",
              "      <td>30.500000</td>\n",
              "      <td>201.400000</td>\n",
              "      <td>100.000000</td>\n",
              "      <td>17.120000</td>\n",
              "      <td>201.200000</td>\n",
              "      <td>100.000000</td>\n",
              "      <td>9.050000</td>\n",
              "      <td>10.300000</td>\n",
              "      <td>4.000000</td>\n",
              "      <td>2.780000</td>\n",
              "      <td>1.000000</td>\n",
              "    </tr>\n",
              "    <tr>\n",
              "      <th>75%</th>\n",
              "      <td>127.000000</td>\n",
              "      <td>510.000000</td>\n",
              "      <td>20.000000</td>\n",
              "      <td>216.400000</td>\n",
              "      <td>114.000000</td>\n",
              "      <td>36.790000</td>\n",
              "      <td>235.300000</td>\n",
              "      <td>114.000000</td>\n",
              "      <td>20.000000</td>\n",
              "      <td>235.300000</td>\n",
              "      <td>113.000000</td>\n",
              "      <td>10.590000</td>\n",
              "      <td>12.100000</td>\n",
              "      <td>6.000000</td>\n",
              "      <td>3.270000</td>\n",
              "      <td>2.000000</td>\n",
              "    </tr>\n",
              "    <tr>\n",
              "      <th>max</th>\n",
              "      <td>243.000000</td>\n",
              "      <td>510.000000</td>\n",
              "      <td>51.000000</td>\n",
              "      <td>350.800000</td>\n",
              "      <td>165.000000</td>\n",
              "      <td>59.640000</td>\n",
              "      <td>363.700000</td>\n",
              "      <td>170.000000</td>\n",
              "      <td>30.910000</td>\n",
              "      <td>395.000000</td>\n",
              "      <td>175.000000</td>\n",
              "      <td>17.770000</td>\n",
              "      <td>20.000000</td>\n",
              "      <td>20.000000</td>\n",
              "      <td>5.400000</td>\n",
              "      <td>9.000000</td>\n",
              "    </tr>\n",
              "  </tbody>\n",
              "</table>\n",
              "</div>"
            ],
            "text/plain": [
              "       Account length    Area code  ...  Total intl charge  Customer service calls\n",
              "count     3333.000000  3333.000000  ...        3333.000000             3333.000000\n",
              "mean       101.064806   437.182418  ...           2.764581                1.562856\n",
              "std         39.822106    42.371290  ...           0.753773                1.315491\n",
              "min          1.000000   408.000000  ...           0.000000                0.000000\n",
              "25%         74.000000   408.000000  ...           2.300000                1.000000\n",
              "50%        101.000000   415.000000  ...           2.780000                1.000000\n",
              "75%        127.000000   510.000000  ...           3.270000                2.000000\n",
              "max        243.000000   510.000000  ...           5.400000                9.000000\n",
              "\n",
              "[8 rows x 16 columns]"
            ]
          },
          "metadata": {
            "tags": []
          },
          "execution_count": 12
        }
      ]
    },
    {
      "cell_type": "markdown",
      "metadata": {
        "id": "nDNOSVyfXiYu"
      },
      "source": [
        "From the above table, it can be seen that customers have talked less during the day time as compare to evening and night time.\n",
        "\n",
        "The average number of calls during day, evening and night are almost the same.\n",
        "\n",
        "Despite having less number of talking minutes during the day time, the charges incurred to the customer is high as compare to evening and night talking minutes.\n",
        "\n",
        "\n",
        "It can also be visualised in the plot shown below"
      ]
    },
    {
      "cell_type": "code",
      "metadata": {
        "colab": {
          "base_uri": "https://localhost:8080/",
          "height": 455
        },
        "id": "bwwzxbftNOam",
        "outputId": "3bd6dca0-ce2c-4cbf-e29f-d2cb52b20166"
      },
      "source": [
        "plt.figure(figsize=(20,5))\n",
        "plt.subplot(1,3,1)\n",
        "sb.distplot(telecom_df['Total day charge'])\n",
        "\n",
        "plt.subplot(1,3,2)           \n",
        "sb.distplot(telecom_df['Total eve charge'])\n",
        "\n",
        "plt.subplot(1,3,3)\n",
        "sb.distplot(telecom_df['Total night charge'])\n",
        "plt.show()"
      ],
      "execution_count": 14,
      "outputs": [
        {
          "output_type": "stream",
          "text": [
            "/usr/local/lib/python3.7/dist-packages/seaborn/distributions.py:2557: FutureWarning: `distplot` is a deprecated function and will be removed in a future version. Please adapt your code to use either `displot` (a figure-level function with similar flexibility) or `histplot` (an axes-level function for histograms).\n",
            "  warnings.warn(msg, FutureWarning)\n",
            "/usr/local/lib/python3.7/dist-packages/seaborn/distributions.py:2557: FutureWarning: `distplot` is a deprecated function and will be removed in a future version. Please adapt your code to use either `displot` (a figure-level function with similar flexibility) or `histplot` (an axes-level function for histograms).\n",
            "  warnings.warn(msg, FutureWarning)\n",
            "/usr/local/lib/python3.7/dist-packages/seaborn/distributions.py:2557: FutureWarning: `distplot` is a deprecated function and will be removed in a future version. Please adapt your code to use either `displot` (a figure-level function with similar flexibility) or `histplot` (an axes-level function for histograms).\n",
            "  warnings.warn(msg, FutureWarning)\n"
          ],
          "name": "stderr"
        },
        {
          "output_type": "display_data",
          "data": {
            "image/png": "[encoded data removed]",
            "text/plain": [
              "<Figure size 1440x360 with 3 Axes>"
            ]
          },
          "metadata": {
            "tags": [],
            "needs_background": "light"
          }
        }
      ]
    },
    {
      "cell_type": "markdown",
      "metadata": {
        "id": "4Z971RkeaC2Z"
      },
      "source": [
        "# Taking International plan column into account and take some insights from it."
      ]
    },
    {
      "cell_type": "code",
      "metadata": {
        "colab": {
          "base_uri": "https://localhost:8080/"
        },
        "id": "og0ccCZjA3XT",
        "outputId": "7c965ded-de57-4fc6-c780-01b8bc7b3526"
      },
      "source": [
        "telecom_df['International plan'].value_counts()"
      ],
      "execution_count": 15,
      "outputs": [
        {
          "output_type": "execute_result",
          "data": {
            "text/plain": [
              "False    3010\n",
              "True      323\n",
              "Name: International plan, dtype: int64"
            ]
          },
          "metadata": {
            "tags": []
          },
          "execution_count": 15
        }
      ]
    },
    {
      "cell_type": "markdown",
      "metadata": {
        "id": "Pmx6BV2Xazp7"
      },
      "source": [
        "There are 323 customers out of 3333 who are using the International plan."
      ]
    },
    {
      "cell_type": "markdown",
      "metadata": {
        "id": "ybU0TxsRbEIV"
      },
      "source": [
        "Now creating two dataframes one containing the customers who have International plan and other one who don't have the International plan."
      ]
    },
    {
      "cell_type": "code",
      "metadata": {
        "id": "9ppxMQAMHWez"
      },
      "source": [
        "Intl_plan_true_df  = telecom_df[telecom_df['International plan'] == True]     # Those who have taken the international plan\n",
        "Intl_plan_false_df  = telecom_df[telecom_df['International plan'] == False]   # Those who have not taken the international plan"
      ],
      "execution_count": 16,
      "outputs": []
    },
    {
      "cell_type": "code",
      "metadata": {
        "colab": {
          "base_uri": "https://localhost:8080/",
          "height": 295
        },
        "id": "C0Dz-6gnHmb0",
        "outputId": "db185f6a-d247-4e97-e0a0-641fc39d3182"
      },
      "source": [
        "Intl_plan_true_df[['Total intl minutes','Total intl charge']].describe()"
      ],
      "execution_count": 17,
      "outputs": [
        {
          "output_type": "execute_result",
          "data": {
            "text/html": [
              "<div>\n",
              "<style scoped>\n",
              "    .dataframe tbody tr th:only-of-type {\n",
              "        vertical-align: middle;\n",
              "    }\n",
              "\n",
              "    .dataframe tbody tr th {\n",
              "        vertical-align: top;\n",
              "    }\n",
              "\n",
              "    .dataframe thead th {\n",
              "        text-align: right;\n",
              "    }\n",
              "</style>\n",
              "<table border=\"1\" class=\"dataframe\">\n",
              "  <thead>\n",
              "    <tr style=\"text-align: right;\">\n",
              "      <th></th>\n",
              "      <th>Total intl minutes</th>\n",
              "      <th>Total intl charge</th>\n",
              "    </tr>\n",
              "  </thead>\n",
              "  <tbody>\n",
              "    <tr>\n",
              "      <th>count</th>\n",
              "      <td>323.000000</td>\n",
              "      <td>323.000000</td>\n",
              "    </tr>\n",
              "    <tr>\n",
              "      <th>mean</th>\n",
              "      <td>10.628173</td>\n",
              "      <td>2.869907</td>\n",
              "    </tr>\n",
              "    <tr>\n",
              "      <th>std</th>\n",
              "      <td>2.697787</td>\n",
              "      <td>0.728151</td>\n",
              "    </tr>\n",
              "    <tr>\n",
              "      <th>min</th>\n",
              "      <td>1.300000</td>\n",
              "      <td>0.350000</td>\n",
              "    </tr>\n",
              "    <tr>\n",
              "      <th>25%</th>\n",
              "      <td>9.000000</td>\n",
              "      <td>2.430000</td>\n",
              "    </tr>\n",
              "    <tr>\n",
              "      <th>50%</th>\n",
              "      <td>10.800000</td>\n",
              "      <td>2.920000</td>\n",
              "    </tr>\n",
              "    <tr>\n",
              "      <th>75%</th>\n",
              "      <td>12.200000</td>\n",
              "      <td>3.290000</td>\n",
              "    </tr>\n",
              "    <tr>\n",
              "      <th>max</th>\n",
              "      <td>20.000000</td>\n",
              "      <td>5.400000</td>\n",
              "    </tr>\n",
              "  </tbody>\n",
              "</table>\n",
              "</div>"
            ],
            "text/plain": [
              "       Total intl minutes  Total intl charge\n",
              "count          323.000000         323.000000\n",
              "mean            10.628173           2.869907\n",
              "std              2.697787           0.728151\n",
              "min              1.300000           0.350000\n",
              "25%              9.000000           2.430000\n",
              "50%             10.800000           2.920000\n",
              "75%             12.200000           3.290000\n",
              "max             20.000000           5.400000"
            ]
          },
          "metadata": {
            "tags": []
          },
          "execution_count": 17
        }
      ]
    },
    {
      "cell_type": "code",
      "metadata": {
        "colab": {
          "base_uri": "https://localhost:8080/",
          "height": 295
        },
        "id": "JqZ252juIEEP",
        "outputId": "459c0fb2-171b-405f-d239-d1aeee21edb0"
      },
      "source": [
        "Intl_plan_false_df[['Total intl minutes','Total intl charge']].describe()"
      ],
      "execution_count": 18,
      "outputs": [
        {
          "output_type": "execute_result",
          "data": {
            "text/html": [
              "<div>\n",
              "<style scoped>\n",
              "    .dataframe tbody tr th:only-of-type {\n",
              "        vertical-align: middle;\n",
              "    }\n",
              "\n",
              "    .dataframe tbody tr th {\n",
              "        vertical-align: top;\n",
              "    }\n",
              "\n",
              "    .dataframe thead th {\n",
              "        text-align: right;\n",
              "    }\n",
              "</style>\n",
              "<table border=\"1\" class=\"dataframe\">\n",
              "  <thead>\n",
              "    <tr style=\"text-align: right;\">\n",
              "      <th></th>\n",
              "      <th>Total intl minutes</th>\n",
              "      <th>Total intl charge</th>\n",
              "    </tr>\n",
              "  </thead>\n",
              "  <tbody>\n",
              "    <tr>\n",
              "      <th>count</th>\n",
              "      <td>3010.000000</td>\n",
              "      <td>3010.000000</td>\n",
              "    </tr>\n",
              "    <tr>\n",
              "      <th>mean</th>\n",
              "      <td>10.195349</td>\n",
              "      <td>2.753279</td>\n",
              "    </tr>\n",
              "    <tr>\n",
              "      <th>std</th>\n",
              "      <td>2.798937</td>\n",
              "      <td>0.755716</td>\n",
              "    </tr>\n",
              "    <tr>\n",
              "      <th>min</th>\n",
              "      <td>0.000000</td>\n",
              "      <td>0.000000</td>\n",
              "    </tr>\n",
              "    <tr>\n",
              "      <th>25%</th>\n",
              "      <td>8.400000</td>\n",
              "      <td>2.270000</td>\n",
              "    </tr>\n",
              "    <tr>\n",
              "      <th>50%</th>\n",
              "      <td>10.200000</td>\n",
              "      <td>2.750000</td>\n",
              "    </tr>\n",
              "    <tr>\n",
              "      <th>75%</th>\n",
              "      <td>12.100000</td>\n",
              "      <td>3.270000</td>\n",
              "    </tr>\n",
              "    <tr>\n",
              "      <th>max</th>\n",
              "      <td>18.900000</td>\n",
              "      <td>5.100000</td>\n",
              "    </tr>\n",
              "  </tbody>\n",
              "</table>\n",
              "</div>"
            ],
            "text/plain": [
              "       Total intl minutes  Total intl charge\n",
              "count         3010.000000        3010.000000\n",
              "mean            10.195349           2.753279\n",
              "std              2.798937           0.755716\n",
              "min              0.000000           0.000000\n",
              "25%              8.400000           2.270000\n",
              "50%             10.200000           2.750000\n",
              "75%             12.100000           3.270000\n",
              "max             18.900000           5.100000"
            ]
          },
          "metadata": {
            "tags": []
          },
          "execution_count": 18
        }
      ]
    },
    {
      "cell_type": "markdown",
      "metadata": {
        "id": "myp8OItYb5uo"
      },
      "source": [
        "From the above two tables, it is clearly visible that customers having the International plan are paying almost the same charges for the same International calling minutes as compare to the customers not having the International plan."
      ]
    },
    {
      "cell_type": "markdown",
      "metadata": {
        "id": "ATYaALmOdHnY"
      },
      "source": [
        "Further it can also be seen the plot given below."
      ]
    },
    {
      "cell_type": "code",
      "metadata": {
        "colab": {
          "base_uri": "https://localhost:8080/",
          "height": 422
        },
        "id": "sRrwMrTZW0U0",
        "outputId": "580203ae-7311-4de9-e7af-348763b4611d"
      },
      "source": [
        "plt.figure(figsize=(20,5))\n",
        "\n",
        "plt.subplot(1,2,1)\n",
        "sb.distplot(Intl_plan_true_df['Total intl charge'])\n",
        "\n",
        "plt.subplot(1,2,2)\n",
        "sb.distplot(Intl_plan_false_df['Total intl charge'])\n",
        "plt.show()"
      ],
      "execution_count": 20,
      "outputs": [
        {
          "output_type": "stream",
          "text": [
            "/usr/local/lib/python3.7/dist-packages/seaborn/distributions.py:2557: FutureWarning: `distplot` is a deprecated function and will be removed in a future version. Please adapt your code to use either `displot` (a figure-level function with similar flexibility) or `histplot` (an axes-level function for histograms).\n",
            "  warnings.warn(msg, FutureWarning)\n",
            "/usr/local/lib/python3.7/dist-packages/seaborn/distributions.py:2557: FutureWarning: `distplot` is a deprecated function and will be removed in a future version. Please adapt your code to use either `displot` (a figure-level function with similar flexibility) or `histplot` (an axes-level function for histograms).\n",
            "  warnings.warn(msg, FutureWarning)\n"
          ],
          "name": "stderr"
        },
        {
          "output_type": "display_data",
          "data": {
            "image/png": "[encoded data removed]",
            "text/plain": [
              "<Figure size 1440x360 with 2 Axes>"
            ]
          },
          "metadata": {
            "tags": [],
            "needs_background": "light"
          }
        }
      ]
    },
    {
      "cell_type": "markdown",
      "metadata": {
        "id": "3el58RAxednh"
      },
      "source": [
        "Drawing a pivot table for the Customers who have taken the International plan considering the churning part."
      ]
    },
    {
      "cell_type": "code",
      "metadata": {
        "colab": {
          "base_uri": "https://localhost:8080/",
          "height": 142
        },
        "id": "7c6MXEjMTZMQ",
        "outputId": "ea82ad92-849e-4b22-eae7-f9a630390c33"
      },
      "source": [
        "pd.crosstab(telecom_df[\"International plan\"], telecom_df[\"Churn\"])"
      ],
      "execution_count": 21,
      "outputs": [
        {
          "output_type": "execute_result",
          "data": {
            "text/html": [
              "<div>\n",
              "<style scoped>\n",
              "    .dataframe tbody tr th:only-of-type {\n",
              "        vertical-align: middle;\n",
              "    }\n",
              "\n",
              "    .dataframe tbody tr th {\n",
              "        vertical-align: top;\n",
              "    }\n",
              "\n",
              "    .dataframe thead th {\n",
              "        text-align: right;\n",
              "    }\n",
              "</style>\n",
              "<table border=\"1\" class=\"dataframe\">\n",
              "  <thead>\n",
              "    <tr style=\"text-align: right;\">\n",
              "      <th>Churn</th>\n",
              "      <th>False</th>\n",
              "      <th>True</th>\n",
              "    </tr>\n",
              "    <tr>\n",
              "      <th>International plan</th>\n",
              "      <th></th>\n",
              "      <th></th>\n",
              "    </tr>\n",
              "  </thead>\n",
              "  <tbody>\n",
              "    <tr>\n",
              "      <th>False</th>\n",
              "      <td>2664</td>\n",
              "      <td>346</td>\n",
              "    </tr>\n",
              "    <tr>\n",
              "      <th>True</th>\n",
              "      <td>186</td>\n",
              "      <td>137</td>\n",
              "    </tr>\n",
              "  </tbody>\n",
              "</table>\n",
              "</div>"
            ],
            "text/plain": [
              "Churn               False  True \n",
              "International plan              \n",
              "False                2664    346\n",
              "True                  186    137"
            ]
          },
          "metadata": {
            "tags": []
          },
          "execution_count": 21
        }
      ]
    },
    {
      "cell_type": "markdown",
      "metadata": {
        "id": "nHIOsQksfDB8"
      },
      "source": [
        "The number of customers who have taken the International plan has higher churning rate as compare to those who has not taken."
      ]
    },
    {
      "cell_type": "code",
      "metadata": {
        "id": "LgKAhMD3kiF_"
      },
      "source": [
        "Intl_churn_rate = telecom_df.groupby(['International plan'])['Churn'].agg([np.mean]).rename(columns = {'mean':'churn_rate'})"
      ],
      "execution_count": 22,
      "outputs": []
    },
    {
      "cell_type": "code",
      "metadata": {
        "id": "Ig11r6WoiZeO",
        "colab": {
          "base_uri": "https://localhost:8080/",
          "height": 381
        },
        "outputId": "38f977f1-9aaf-486b-a61e-06108264877e"
      },
      "source": [
        "churn_perct_with_no_Intl_plan = round((Intl_churn_rate.iloc[0,0]*100),3)\n",
        "unchurn_perct_with_no_Intl_plan = 100 - churn_perct_with_no_Intl_plan\n",
        "\n",
        "churn_perct_with_Intl_plan = round((Intl_churn_rate.iloc[1,0]*100),3)\n",
        "unchurn_perct_with_Intl_plan = 100 - churn_perct_with_Intl_plan\n",
        "\n",
        "\n",
        "x1 = [churn_perct_with_no_Intl_plan, unchurn_perct_with_no_Intl_plan]\n",
        "x2 = [churn_perct_with_Intl_plan, unchurn_perct_with_Intl_plan]\n",
        "\n",
        "labels = ['Churned users', 'Unchurned users']\n",
        "explode = [0.05, 0]\n",
        "\n",
        "fig = plt.figure(figsize=(6,7),dpi=144)\n",
        "ax1 = fig.add_subplot(121)\n",
        "ax2 = fig.add_subplot(122)\n",
        "ax1.pie(x1, labels = labels,explode = explode, autopct='%1.1f%%', startangle=90)\n",
        "ax2.pie(x2, labels = labels,explode = explode, autopct='%1.1f%%', startangle=45)\n",
        "ax1.set_title('No International Plan')\n",
        "ax2.set_title('International Plan')\n",
        "plt.show()"
      ],
      "execution_count": 23,
      "outputs": [
        {
          "output_type": "display_data",
          "data": {
            "image/png": "[encoded data removed]",
            "text/plain": [
              "<Figure size 864x1008 with 2 Axes>"
            ]
          },
          "metadata": {
            "tags": []
          }
        }
      ]
    },
    {
      "cell_type": "code",
      "metadata": {
        "id": "dh18CM7gIZnH"
      },
      "source": [
        "#telecom_df['Total charges'] = telecom_df['Total day charge'] + telecom_df['Total eve charge'] + telecom_df['Total night charge'] + telecom_df['Total intl charge']"
      ],
      "execution_count": null,
      "outputs": []
    },
    {
      "cell_type": "code",
      "metadata": {
        "id": "YJWJWEQBFA-1"
      },
      "source": [
        "#telecom_df[numerical].hist(figsize=(20,20));"
      ],
      "execution_count": null,
      "outputs": []
    },
    {
      "cell_type": "markdown",
      "metadata": {
        "id": "FwytkF4-ktfy"
      },
      "source": [
        "# Considering Voice mail plan in the next part. In this, the proportion of users who are churning with respect to the their voice mail plan is found out."
      ]
    },
    {
      "cell_type": "code",
      "metadata": {
        "id": "9mnKZXV0A-81"
      },
      "source": [
        "#telecom_df['Voice mail plan'].value_counts()"
      ],
      "execution_count": null,
      "outputs": []
    },
    {
      "cell_type": "code",
      "metadata": {
        "colab": {
          "base_uri": "https://localhost:8080/",
          "height": 142
        },
        "id": "QF-OA-1YTYXn",
        "outputId": "e296b910-168b-4d84-80eb-ebe2d91bc6c6"
      },
      "source": [
        "pd.crosstab(telecom_df[\"Voice mail plan\"], telecom_df[\"Churn\"])"
      ],
      "execution_count": 24,
      "outputs": [
        {
          "output_type": "execute_result",
          "data": {
            "text/html": [
              "<div>\n",
              "<style scoped>\n",
              "    .dataframe tbody tr th:only-of-type {\n",
              "        vertical-align: middle;\n",
              "    }\n",
              "\n",
              "    .dataframe tbody tr th {\n",
              "        vertical-align: top;\n",
              "    }\n",
              "\n",
              "    .dataframe thead th {\n",
              "        text-align: right;\n",
              "    }\n",
              "</style>\n",
              "<table border=\"1\" class=\"dataframe\">\n",
              "  <thead>\n",
              "    <tr style=\"text-align: right;\">\n",
              "      <th>Churn</th>\n",
              "      <th>False</th>\n",
              "      <th>True</th>\n",
              "    </tr>\n",
              "    <tr>\n",
              "      <th>Voice mail plan</th>\n",
              "      <th></th>\n",
              "      <th></th>\n",
              "    </tr>\n",
              "  </thead>\n",
              "  <tbody>\n",
              "    <tr>\n",
              "      <th>False</th>\n",
              "      <td>2008</td>\n",
              "      <td>403</td>\n",
              "    </tr>\n",
              "    <tr>\n",
              "      <th>True</th>\n",
              "      <td>842</td>\n",
              "      <td>80</td>\n",
              "    </tr>\n",
              "  </tbody>\n",
              "</table>\n",
              "</div>"
            ],
            "text/plain": [
              "Churn            False  True \n",
              "Voice mail plan              \n",
              "False             2008    403\n",
              "True               842     80"
            ]
          },
          "metadata": {
            "tags": []
          },
          "execution_count": 24
        }
      ]
    },
    {
      "cell_type": "markdown",
      "metadata": {
        "id": "Q08XYLYmr61_"
      },
      "source": [
        "It is interesting to see that the number of customers who are not using the Voice mail plan are churning more as compare to those who have no Voice mail plan."
      ]
    },
    {
      "cell_type": "code",
      "metadata": {
        "id": "tahJ3qijZ8ws"
      },
      "source": [
        "voice_churn_rate = telecom_df.groupby(['Voice mail plan'])['Churn'].agg([np.mean]).rename(columns = {'mean':'churn_rate'})"
      ],
      "execution_count": 25,
      "outputs": []
    },
    {
      "cell_type": "code",
      "metadata": {
        "id": "qcJu2WVbsouG",
        "colab": {
          "base_uri": "https://localhost:8080/",
          "height": 381
        },
        "outputId": "110b60e9-94ba-4d27-eb5f-069e587a95f5"
      },
      "source": [
        "churn_perct_with_no_voice_plan = round((voice_churn_rate.iloc[0,0]*100),3)\n",
        "unchurn_perct_with_no_voice_plan = 100 - churn_perct_with_no_voice_plan\n",
        "\n",
        "churn_perct_with_voice_plan = round((voice_churn_rate.iloc[1,0]*100),3)\n",
        "unchurn_perct_with_voice_plan = 100 - churn_perct_with_voice_plan\n",
        "\n",
        "\n",
        "x1 = [churn_perct_with_no_voice_plan, unchurn_perct_with_no_voice_plan]\n",
        "x2 = [churn_perct_with_voice_plan, unchurn_perct_with_voice_plan]\n",
        "\n",
        "labels = ['Churned users', 'Unchurned users']\n",
        "explode = [0.05, 0]\n",
        "\n",
        "fig = plt.figure(figsize=(6,7),dpi=144)\n",
        "ax1 = fig.add_subplot(121)\n",
        "ax2 = fig.add_subplot(122)\n",
        "ax1.pie(x1, labels = labels,explode = explode, autopct='%1.1f%%', startangle=90)\n",
        "ax2.pie(x2, labels = labels,explode = explode, autopct='%1.1f%%', startangle=90)\n",
        "ax1.set_title('No Voice mail Plan')\n",
        "ax2.set_title('Voice mail Plan')\n",
        "plt.show()"
      ],
      "execution_count": 26,
      "outputs": [
        {
          "output_type": "display_data",
          "data": {
            "image/png": "[encoded data removed]",
            "text/plain": [
              "<Figure size 864x1008 with 2 Axes>"
            ]
          },
          "metadata": {
            "tags": []
          }
        }
      ]
    },
    {
      "cell_type": "markdown",
      "metadata": {
        "id": "S2OgCgEVRr3M"
      },
      "source": [
        "Not getting any kind of inference that why it is happenening. It may be possible that there might be some other reasons and not the voice mail plan due to which customers are churning out."
      ]
    },
    {
      "cell_type": "markdown",
      "metadata": {
        "id": "pN5oYGu2SE3g"
      },
      "source": [
        "Therefore considering both International plan and Voice mail plan with respect to churn"
      ]
    },
    {
      "cell_type": "code",
      "metadata": {
        "id": "mk6r_rSpSNVs",
        "outputId": "aa4f8f66-41a4-4ff3-f4fd-ec98dc017306",
        "colab": {
          "base_uri": "https://localhost:8080/",
          "height": 203
        }
      },
      "source": [
        "pd.pivot_table(data = telecom_df, index = ['Voice mail plan', 'International plan'], values = 'Churn')"
      ],
      "execution_count": 29,
      "outputs": [
        {
          "output_type": "execute_result",
          "data": {
            "text/html": [
              "<div>\n",
              "<style scoped>\n",
              "    .dataframe tbody tr th:only-of-type {\n",
              "        vertical-align: middle;\n",
              "    }\n",
              "\n",
              "    .dataframe tbody tr th {\n",
              "        vertical-align: top;\n",
              "    }\n",
              "\n",
              "    .dataframe thead th {\n",
              "        text-align: right;\n",
              "    }\n",
              "</style>\n",
              "<table border=\"1\" class=\"dataframe\">\n",
              "  <thead>\n",
              "    <tr style=\"text-align: right;\">\n",
              "      <th></th>\n",
              "      <th></th>\n",
              "      <th>Churn</th>\n",
              "    </tr>\n",
              "    <tr>\n",
              "      <th>Voice mail plan</th>\n",
              "      <th>International plan</th>\n",
              "      <th></th>\n",
              "    </tr>\n",
              "  </thead>\n",
              "  <tbody>\n",
              "    <tr>\n",
              "      <th rowspan=\"2\" valign=\"top\">False</th>\n",
              "      <th>False</th>\n",
              "      <td>0.138532</td>\n",
              "    </tr>\n",
              "    <tr>\n",
              "      <th>True</th>\n",
              "      <td>0.437229</td>\n",
              "    </tr>\n",
              "    <tr>\n",
              "      <th rowspan=\"2\" valign=\"top\">True</th>\n",
              "      <th>False</th>\n",
              "      <td>0.053012</td>\n",
              "    </tr>\n",
              "    <tr>\n",
              "      <th>True</th>\n",
              "      <td>0.391304</td>\n",
              "    </tr>\n",
              "  </tbody>\n",
              "</table>\n",
              "</div>"
            ],
            "text/plain": [
              "                                       Churn\n",
              "Voice mail plan International plan          \n",
              "False           False               0.138532\n",
              "                True                0.437229\n",
              "True            False               0.053012\n",
              "                True                0.391304"
            ]
          },
          "metadata": {
            "tags": []
          },
          "execution_count": 29
        }
      ]
    },
    {
      "cell_type": "markdown",
      "metadata": {
        "id": "dEuutMOPSwvw"
      },
      "source": [
        "From the above table it is clear that only Voice mail plan is very little role for customers to be churned out and there are some other factors which are affecting more."
      ]
    },
    {
      "cell_type": "markdown",
      "metadata": {
        "id": "JK6dyeRbgVzN"
      },
      "source": [
        "# Account length with respect to churn"
      ]
    },
    {
      "cell_type": "code",
      "metadata": {
        "id": "wW4oS6m6gyKp",
        "colab": {
          "base_uri": "https://localhost:8080/",
          "height": 296
        },
        "outputId": "09689300-c174-42e3-ce6d-a0330a1d7ac5"
      },
      "source": [
        "sb.boxplot(y='Account length', x='Churn', data=telecom_df, sym = '')"
      ],
      "execution_count": null,
      "outputs": [
        {
          "output_type": "execute_result",
          "data": {
            "text/plain": [
              "<matplotlib.axes._subplots.AxesSubplot at 0x7f377d50f6d0>"
            ]
          },
          "metadata": {
            "tags": []
          },
          "execution_count": 53
        },
        {
          "output_type": "display_data",
          "data": {
            "image/png": "[encoded data removed]",
            "text/plain": [
              "<Figure size 432x288 with 1 Axes>"
            ]
          },
          "metadata": {
            "tags": [],
            "needs_background": "light"
          }
        }
      ]
    },
    {
      "cell_type": "markdown",
      "metadata": {
        "id": "xMmp7VTWg2_q"
      },
      "source": [
        "From the above box plot, it clearly shows that the same plot for both churned and unchurned users. Hence it is not affecting the churn rate."
      ]
    },
    {
      "cell_type": "markdown",
      "metadata": {
        "id": "9ki-BGZ1Bi2Z"
      },
      "source": [
        "# Area code wise Churned users"
      ]
    },
    {
      "cell_type": "code",
      "metadata": {
        "colab": {
          "base_uri": "https://localhost:8080/"
        },
        "id": "hnQFo7UHBoct",
        "outputId": "57e4afc7-5006-4fa6-9788-32a4c128a0c0"
      },
      "source": [
        "telecom_df.groupby('Area code')['Churn'].value_counts()"
      ],
      "execution_count": null,
      "outputs": [
        {
          "output_type": "execute_result",
          "data": {
            "text/plain": [
              "Area code  Churn\n",
              "408        False     716\n",
              "           True      122\n",
              "415        False    1419\n",
              "           True      236\n",
              "510        False     715\n",
              "           True      125\n",
              "Name: Churn, dtype: int64"
            ]
          },
          "metadata": {
            "tags": []
          },
          "execution_count": 189
        }
      ]
    },
    {
      "cell_type": "code",
      "metadata": {
        "colab": {
          "base_uri": "https://localhost:8080/",
          "height": 172
        },
        "id": "bTYwyyb0bzwA",
        "outputId": "084eac18-3adf-4567-f9e0-af6817555a67"
      },
      "source": [
        "pd.pivot_table(telecom_df,index=['Area code'],values=['Churn'])"
      ],
      "execution_count": null,
      "outputs": [
        {
          "output_type": "execute_result",
          "data": {
            "text/html": [
              "<div>\n",
              "<style scoped>\n",
              "    .dataframe tbody tr th:only-of-type {\n",
              "        vertical-align: middle;\n",
              "    }\n",
              "\n",
              "    .dataframe tbody tr th {\n",
              "        vertical-align: top;\n",
              "    }\n",
              "\n",
              "    .dataframe thead th {\n",
              "        text-align: right;\n",
              "    }\n",
              "</style>\n",
              "<table border=\"1\" class=\"dataframe\">\n",
              "  <thead>\n",
              "    <tr style=\"text-align: right;\">\n",
              "      <th></th>\n",
              "      <th>Churn</th>\n",
              "    </tr>\n",
              "    <tr>\n",
              "      <th>Area code</th>\n",
              "      <th></th>\n",
              "    </tr>\n",
              "  </thead>\n",
              "  <tbody>\n",
              "    <tr>\n",
              "      <th>408</th>\n",
              "      <td>0.145585</td>\n",
              "    </tr>\n",
              "    <tr>\n",
              "      <th>415</th>\n",
              "      <td>0.142598</td>\n",
              "    </tr>\n",
              "    <tr>\n",
              "      <th>510</th>\n",
              "      <td>0.148810</td>\n",
              "    </tr>\n",
              "  </tbody>\n",
              "</table>\n",
              "</div>"
            ],
            "text/plain": [
              "              Churn\n",
              "Area code          \n",
              "408        0.145585\n",
              "415        0.142598\n",
              "510        0.148810"
            ]
          },
          "metadata": {
            "tags": []
          },
          "execution_count": 191
        }
      ]
    },
    {
      "cell_type": "code",
      "metadata": {
        "colab": {
          "base_uri": "https://localhost:8080/",
          "height": 352
        },
        "id": "u2ZdBxBUa7A2",
        "outputId": "32c13e9f-b968-468c-e852-c69f46e9fe03"
      },
      "source": [
        "area_churn = pd.pivot_table(telecom_df,index=['Area code'],values=['Churn'])\n",
        "area_churn['area_code'] = area_churn.index\n",
        "\n",
        "plt.figure(figsize=(10,5))\n",
        "sb.barplot(y='Churn', x='area_code', data=area_churn)\n"
      ],
      "execution_count": null,
      "outputs": [
        {
          "output_type": "execute_result",
          "data": {
            "text/plain": [
              "<matplotlib.axes._subplots.AxesSubplot at 0x7f63189e8810>"
            ]
          },
          "metadata": {
            "tags": []
          },
          "execution_count": 194
        },
        {
          "output_type": "display_data",
          "data": {
            "image/png": "[encoded data removed]",
            "text/plain": [
              "<Figure size 720x360 with 1 Axes>"
            ]
          },
          "metadata": {
            "tags": [],
            "needs_background": "light"
          }
        }
      ]
    },
    {
      "cell_type": "markdown",
      "metadata": {
        "id": "0a8lePP5vUP7"
      },
      "source": [
        "The churn rate of customers is approximately same for each area code. So, this area code data is not providing any kind of inference in order to solve the churning problem."
      ]
    },
    {
      "cell_type": "markdown",
      "metadata": {
        "id": "C3ukumTkxJo7"
      },
      "source": [
        "# Taking all the day, evening, night columns with respect to the Churn"
      ]
    },
    {
      "cell_type": "code",
      "metadata": {
        "colab": {
          "base_uri": "https://localhost:8080/",
          "height": 334
        },
        "id": "7yVIOh-RqP4H",
        "outputId": "4b1055d7-b592-4fe3-c846-f7408f12f8cd"
      },
      "source": [
        "plt.figure(figsize=(20,5))\n",
        "plt.subplot(1,3,1)\n",
        "sb.boxplot(y='Total day minutes', x='Churn', data=telecom_df, sym = '')\n",
        "\n",
        "plt.subplot(1,3,2)\n",
        "sb.boxplot(y='Total eve minutes', x='Churn', data=telecom_df, sym = '')\n",
        "\n",
        "plt.subplot(1,3,3)\n",
        "sb.boxplot(y='Total night minutes', x='Churn', data=telecom_df, sym = '')\n",
        "\n",
        "plt.show()"
      ],
      "execution_count": 30,
      "outputs": [
        {
          "output_type": "display_data",
          "data": {
            "image/png": "[encoded data removed]",
            "text/plain": [
              "<Figure size 1440x360 with 3 Axes>"
            ]
          },
          "metadata": {
            "tags": [],
            "needs_background": "light"
          }
        }
      ]
    },
    {
      "cell_type": "markdown",
      "metadata": {
        "id": "AH8LnbPVyxqA"
      },
      "source": [
        "This clearly shows that during the day time, customers who are churning out have higher talking minutes as compare to the non-churning customer.\n",
        "\n",
        "For the evening and the night time, talking minutes is almost same for churned and non-churned customers in each case. So, these two columns won't contribute for the churn analysis. \n",
        "\n",
        "It can also be seen by using the describe table."
      ]
    },
    {
      "cell_type": "code",
      "metadata": {
        "id": "rLoD6OZxr1Wa"
      },
      "source": [
        "churned_users = telecom_df[telecom_df['Churn'] == True]\n",
        "unchurned_users = telecom_df[telecom_df['Churn'] == False]"
      ],
      "execution_count": 31,
      "outputs": []
    },
    {
      "cell_type": "code",
      "metadata": {
        "colab": {
          "base_uri": "https://localhost:8080/",
          "height": 349
        },
        "id": "2tNhHFeyxY1_",
        "outputId": "43a47a09-403f-47f7-8162-efce912e3a5a"
      },
      "source": [
        "churned_users.describe()"
      ],
      "execution_count": 33,
      "outputs": [
        {
          "output_type": "execute_result",
          "data": {
            "text/html": [
              "<div>\n",
              "<style scoped>\n",
              "    .dataframe tbody tr th:only-of-type {\n",
              "        vertical-align: middle;\n",
              "    }\n",
              "\n",
              "    .dataframe tbody tr th {\n",
              "        vertical-align: top;\n",
              "    }\n",
              "\n",
              "    .dataframe thead th {\n",
              "        text-align: right;\n",
              "    }\n",
              "</style>\n",
              "<table border=\"1\" class=\"dataframe\">\n",
              "  <thead>\n",
              "    <tr style=\"text-align: right;\">\n",
              "      <th></th>\n",
              "      <th>Account length</th>\n",
              "      <th>Area code</th>\n",
              "      <th>Number vmail messages</th>\n",
              "      <th>Total day minutes</th>\n",
              "      <th>Total day calls</th>\n",
              "      <th>Total day charge</th>\n",
              "      <th>Total eve minutes</th>\n",
              "      <th>Total eve calls</th>\n",
              "      <th>Total eve charge</th>\n",
              "      <th>Total night minutes</th>\n",
              "      <th>Total night calls</th>\n",
              "      <th>Total night charge</th>\n",
              "      <th>Total intl minutes</th>\n",
              "      <th>Total intl calls</th>\n",
              "      <th>Total intl charge</th>\n",
              "      <th>Customer service calls</th>\n",
              "    </tr>\n",
              "  </thead>\n",
              "  <tbody>\n",
              "    <tr>\n",
              "      <th>count</th>\n",
              "      <td>483.000000</td>\n",
              "      <td>483.000000</td>\n",
              "      <td>483.000000</td>\n",
              "      <td>483.000000</td>\n",
              "      <td>483.000000</td>\n",
              "      <td>483.000000</td>\n",
              "      <td>483.000000</td>\n",
              "      <td>483.000000</td>\n",
              "      <td>483.000000</td>\n",
              "      <td>483.000000</td>\n",
              "      <td>483.000000</td>\n",
              "      <td>483.000000</td>\n",
              "      <td>483.00000</td>\n",
              "      <td>483.000000</td>\n",
              "      <td>483.000000</td>\n",
              "      <td>483.000000</td>\n",
              "    </tr>\n",
              "    <tr>\n",
              "      <th>mean</th>\n",
              "      <td>102.664596</td>\n",
              "      <td>437.817805</td>\n",
              "      <td>5.115942</td>\n",
              "      <td>206.914079</td>\n",
              "      <td>101.335404</td>\n",
              "      <td>35.175921</td>\n",
              "      <td>212.410145</td>\n",
              "      <td>100.561077</td>\n",
              "      <td>18.054969</td>\n",
              "      <td>205.231677</td>\n",
              "      <td>100.399586</td>\n",
              "      <td>9.235528</td>\n",
              "      <td>10.70000</td>\n",
              "      <td>4.163561</td>\n",
              "      <td>2.889545</td>\n",
              "      <td>2.229814</td>\n",
              "    </tr>\n",
              "    <tr>\n",
              "      <th>std</th>\n",
              "      <td>39.467820</td>\n",
              "      <td>42.792270</td>\n",
              "      <td>11.860138</td>\n",
              "      <td>68.997792</td>\n",
              "      <td>21.582307</td>\n",
              "      <td>11.729710</td>\n",
              "      <td>51.728910</td>\n",
              "      <td>19.724711</td>\n",
              "      <td>4.396762</td>\n",
              "      <td>47.132825</td>\n",
              "      <td>19.950659</td>\n",
              "      <td>2.121081</td>\n",
              "      <td>2.79319</td>\n",
              "      <td>2.551575</td>\n",
              "      <td>0.754152</td>\n",
              "      <td>1.853275</td>\n",
              "    </tr>\n",
              "    <tr>\n",
              "      <th>min</th>\n",
              "      <td>1.000000</td>\n",
              "      <td>408.000000</td>\n",
              "      <td>0.000000</td>\n",
              "      <td>0.000000</td>\n",
              "      <td>0.000000</td>\n",
              "      <td>0.000000</td>\n",
              "      <td>70.900000</td>\n",
              "      <td>48.000000</td>\n",
              "      <td>6.030000</td>\n",
              "      <td>47.400000</td>\n",
              "      <td>49.000000</td>\n",
              "      <td>2.130000</td>\n",
              "      <td>2.00000</td>\n",
              "      <td>1.000000</td>\n",
              "      <td>0.540000</td>\n",
              "      <td>0.000000</td>\n",
              "    </tr>\n",
              "    <tr>\n",
              "      <th>25%</th>\n",
              "      <td>76.000000</td>\n",
              "      <td>408.000000</td>\n",
              "      <td>0.000000</td>\n",
              "      <td>153.250000</td>\n",
              "      <td>87.500000</td>\n",
              "      <td>26.055000</td>\n",
              "      <td>177.100000</td>\n",
              "      <td>87.000000</td>\n",
              "      <td>15.055000</td>\n",
              "      <td>171.250000</td>\n",
              "      <td>85.000000</td>\n",
              "      <td>7.705000</td>\n",
              "      <td>8.80000</td>\n",
              "      <td>2.000000</td>\n",
              "      <td>2.380000</td>\n",
              "      <td>1.000000</td>\n",
              "    </tr>\n",
              "    <tr>\n",
              "      <th>50%</th>\n",
              "      <td>103.000000</td>\n",
              "      <td>415.000000</td>\n",
              "      <td>0.000000</td>\n",
              "      <td>217.600000</td>\n",
              "      <td>103.000000</td>\n",
              "      <td>36.990000</td>\n",
              "      <td>211.300000</td>\n",
              "      <td>101.000000</td>\n",
              "      <td>17.960000</td>\n",
              "      <td>204.800000</td>\n",
              "      <td>100.000000</td>\n",
              "      <td>9.220000</td>\n",
              "      <td>10.60000</td>\n",
              "      <td>4.000000</td>\n",
              "      <td>2.860000</td>\n",
              "      <td>2.000000</td>\n",
              "    </tr>\n",
              "    <tr>\n",
              "      <th>75%</th>\n",
              "      <td>127.000000</td>\n",
              "      <td>510.000000</td>\n",
              "      <td>0.000000</td>\n",
              "      <td>265.950000</td>\n",
              "      <td>116.500000</td>\n",
              "      <td>45.210000</td>\n",
              "      <td>249.450000</td>\n",
              "      <td>114.000000</td>\n",
              "      <td>21.205000</td>\n",
              "      <td>239.850000</td>\n",
              "      <td>115.000000</td>\n",
              "      <td>10.795000</td>\n",
              "      <td>12.80000</td>\n",
              "      <td>5.000000</td>\n",
              "      <td>3.460000</td>\n",
              "      <td>4.000000</td>\n",
              "    </tr>\n",
              "    <tr>\n",
              "      <th>max</th>\n",
              "      <td>225.000000</td>\n",
              "      <td>510.000000</td>\n",
              "      <td>48.000000</td>\n",
              "      <td>350.800000</td>\n",
              "      <td>165.000000</td>\n",
              "      <td>59.640000</td>\n",
              "      <td>363.700000</td>\n",
              "      <td>168.000000</td>\n",
              "      <td>30.910000</td>\n",
              "      <td>354.900000</td>\n",
              "      <td>158.000000</td>\n",
              "      <td>15.970000</td>\n",
              "      <td>20.00000</td>\n",
              "      <td>20.000000</td>\n",
              "      <td>5.400000</td>\n",
              "      <td>9.000000</td>\n",
              "    </tr>\n",
              "  </tbody>\n",
              "</table>\n",
              "</div>"
            ],
            "text/plain": [
              "       Account length   Area code  ...  Total intl charge  Customer service calls\n",
              "count      483.000000  483.000000  ...         483.000000              483.000000\n",
              "mean       102.664596  437.817805  ...           2.889545                2.229814\n",
              "std         39.467820   42.792270  ...           0.754152                1.853275\n",
              "min          1.000000  408.000000  ...           0.540000                0.000000\n",
              "25%         76.000000  408.000000  ...           2.380000                1.000000\n",
              "50%        103.000000  415.000000  ...           2.860000                2.000000\n",
              "75%        127.000000  510.000000  ...           3.460000                4.000000\n",
              "max        225.000000  510.000000  ...           5.400000                9.000000\n",
              "\n",
              "[8 rows x 16 columns]"
            ]
          },
          "metadata": {
            "tags": []
          },
          "execution_count": 33
        }
      ]
    },
    {
      "cell_type": "code",
      "metadata": {
        "colab": {
          "base_uri": "https://localhost:8080/",
          "height": 349
        },
        "id": "PEh7FFktxgL9",
        "outputId": "4b165049-a82b-4849-86df-e82bd0c5849f"
      },
      "source": [
        "unchurned_users.describe()"
      ],
      "execution_count": 34,
      "outputs": [
        {
          "output_type": "execute_result",
          "data": {
            "text/html": [
              "<div>\n",
              "<style scoped>\n",
              "    .dataframe tbody tr th:only-of-type {\n",
              "        vertical-align: middle;\n",
              "    }\n",
              "\n",
              "    .dataframe tbody tr th {\n",
              "        vertical-align: top;\n",
              "    }\n",
              "\n",
              "    .dataframe thead th {\n",
              "        text-align: right;\n",
              "    }\n",
              "</style>\n",
              "<table border=\"1\" class=\"dataframe\">\n",
              "  <thead>\n",
              "    <tr style=\"text-align: right;\">\n",
              "      <th></th>\n",
              "      <th>Account length</th>\n",
              "      <th>Area code</th>\n",
              "      <th>Number vmail messages</th>\n",
              "      <th>Total day minutes</th>\n",
              "      <th>Total day calls</th>\n",
              "      <th>Total day charge</th>\n",
              "      <th>Total eve minutes</th>\n",
              "      <th>Total eve calls</th>\n",
              "      <th>Total eve charge</th>\n",
              "      <th>Total night minutes</th>\n",
              "      <th>Total night calls</th>\n",
              "      <th>Total night charge</th>\n",
              "      <th>Total intl minutes</th>\n",
              "      <th>Total intl calls</th>\n",
              "      <th>Total intl charge</th>\n",
              "      <th>Customer service calls</th>\n",
              "    </tr>\n",
              "  </thead>\n",
              "  <tbody>\n",
              "    <tr>\n",
              "      <th>count</th>\n",
              "      <td>2850.000000</td>\n",
              "      <td>2850.000000</td>\n",
              "      <td>2850.000000</td>\n",
              "      <td>2850.000000</td>\n",
              "      <td>2850.000000</td>\n",
              "      <td>2850.000000</td>\n",
              "      <td>2850.000000</td>\n",
              "      <td>2850.000000</td>\n",
              "      <td>2850.000000</td>\n",
              "      <td>2850.000000</td>\n",
              "      <td>2850.000000</td>\n",
              "      <td>2850.000000</td>\n",
              "      <td>2850.000000</td>\n",
              "      <td>2850.000000</td>\n",
              "      <td>2850.000000</td>\n",
              "      <td>2850.000000</td>\n",
              "    </tr>\n",
              "    <tr>\n",
              "      <th>mean</th>\n",
              "      <td>100.793684</td>\n",
              "      <td>437.074737</td>\n",
              "      <td>8.604561</td>\n",
              "      <td>175.175754</td>\n",
              "      <td>100.283158</td>\n",
              "      <td>29.780421</td>\n",
              "      <td>199.043298</td>\n",
              "      <td>100.038596</td>\n",
              "      <td>16.918909</td>\n",
              "      <td>200.133193</td>\n",
              "      <td>100.058246</td>\n",
              "      <td>9.006074</td>\n",
              "      <td>10.158877</td>\n",
              "      <td>4.532982</td>\n",
              "      <td>2.743404</td>\n",
              "      <td>1.449825</td>\n",
              "    </tr>\n",
              "    <tr>\n",
              "      <th>std</th>\n",
              "      <td>39.882350</td>\n",
              "      <td>42.306156</td>\n",
              "      <td>13.913125</td>\n",
              "      <td>50.181655</td>\n",
              "      <td>19.801157</td>\n",
              "      <td>8.530835</td>\n",
              "      <td>50.292175</td>\n",
              "      <td>19.958414</td>\n",
              "      <td>4.274863</td>\n",
              "      <td>51.105032</td>\n",
              "      <td>19.506246</td>\n",
              "      <td>2.299768</td>\n",
              "      <td>2.784489</td>\n",
              "      <td>2.441984</td>\n",
              "      <td>0.751784</td>\n",
              "      <td>1.163883</td>\n",
              "    </tr>\n",
              "    <tr>\n",
              "      <th>min</th>\n",
              "      <td>1.000000</td>\n",
              "      <td>408.000000</td>\n",
              "      <td>0.000000</td>\n",
              "      <td>0.000000</td>\n",
              "      <td>0.000000</td>\n",
              "      <td>0.000000</td>\n",
              "      <td>0.000000</td>\n",
              "      <td>0.000000</td>\n",
              "      <td>0.000000</td>\n",
              "      <td>23.200000</td>\n",
              "      <td>33.000000</td>\n",
              "      <td>1.040000</td>\n",
              "      <td>0.000000</td>\n",
              "      <td>0.000000</td>\n",
              "      <td>0.000000</td>\n",
              "      <td>0.000000</td>\n",
              "    </tr>\n",
              "    <tr>\n",
              "      <th>25%</th>\n",
              "      <td>73.000000</td>\n",
              "      <td>408.000000</td>\n",
              "      <td>0.000000</td>\n",
              "      <td>142.825000</td>\n",
              "      <td>87.000000</td>\n",
              "      <td>24.282500</td>\n",
              "      <td>164.500000</td>\n",
              "      <td>87.000000</td>\n",
              "      <td>13.980000</td>\n",
              "      <td>165.900000</td>\n",
              "      <td>87.000000</td>\n",
              "      <td>7.470000</td>\n",
              "      <td>8.400000</td>\n",
              "      <td>3.000000</td>\n",
              "      <td>2.270000</td>\n",
              "      <td>1.000000</td>\n",
              "    </tr>\n",
              "    <tr>\n",
              "      <th>50%</th>\n",
              "      <td>100.000000</td>\n",
              "      <td>415.000000</td>\n",
              "      <td>0.000000</td>\n",
              "      <td>177.200000</td>\n",
              "      <td>100.000000</td>\n",
              "      <td>30.120000</td>\n",
              "      <td>199.600000</td>\n",
              "      <td>100.000000</td>\n",
              "      <td>16.970000</td>\n",
              "      <td>200.250000</td>\n",
              "      <td>100.000000</td>\n",
              "      <td>9.010000</td>\n",
              "      <td>10.200000</td>\n",
              "      <td>4.000000</td>\n",
              "      <td>2.750000</td>\n",
              "      <td>1.000000</td>\n",
              "    </tr>\n",
              "    <tr>\n",
              "      <th>75%</th>\n",
              "      <td>127.000000</td>\n",
              "      <td>510.000000</td>\n",
              "      <td>22.000000</td>\n",
              "      <td>210.300000</td>\n",
              "      <td>114.000000</td>\n",
              "      <td>35.750000</td>\n",
              "      <td>233.200000</td>\n",
              "      <td>114.000000</td>\n",
              "      <td>19.820000</td>\n",
              "      <td>234.900000</td>\n",
              "      <td>113.000000</td>\n",
              "      <td>10.570000</td>\n",
              "      <td>12.000000</td>\n",
              "      <td>6.000000</td>\n",
              "      <td>3.240000</td>\n",
              "      <td>2.000000</td>\n",
              "    </tr>\n",
              "    <tr>\n",
              "      <th>max</th>\n",
              "      <td>243.000000</td>\n",
              "      <td>510.000000</td>\n",
              "      <td>51.000000</td>\n",
              "      <td>315.600000</td>\n",
              "      <td>163.000000</td>\n",
              "      <td>53.650000</td>\n",
              "      <td>361.800000</td>\n",
              "      <td>170.000000</td>\n",
              "      <td>30.750000</td>\n",
              "      <td>395.000000</td>\n",
              "      <td>175.000000</td>\n",
              "      <td>17.770000</td>\n",
              "      <td>18.900000</td>\n",
              "      <td>19.000000</td>\n",
              "      <td>5.100000</td>\n",
              "      <td>8.000000</td>\n",
              "    </tr>\n",
              "  </tbody>\n",
              "</table>\n",
              "</div>"
            ],
            "text/plain": [
              "       Account length    Area code  ...  Total intl charge  Customer service calls\n",
              "count     2850.000000  2850.000000  ...        2850.000000             2850.000000\n",
              "mean       100.793684   437.074737  ...           2.743404                1.449825\n",
              "std         39.882350    42.306156  ...           0.751784                1.163883\n",
              "min          1.000000   408.000000  ...           0.000000                0.000000\n",
              "25%         73.000000   408.000000  ...           2.270000                1.000000\n",
              "50%        100.000000   415.000000  ...           2.750000                1.000000\n",
              "75%        127.000000   510.000000  ...           3.240000                2.000000\n",
              "max        243.000000   510.000000  ...           5.100000                8.000000\n",
              "\n",
              "[8 rows x 16 columns]"
            ]
          },
          "metadata": {
            "tags": []
          },
          "execution_count": 34
        }
      ]
    },
    {
      "cell_type": "code",
      "metadata": {
        "id": "cLLnaxCs2mVT",
        "colab": {
          "base_uri": "https://localhost:8080/",
          "height": 334
        },
        "outputId": "d1a13d27-ad54-498b-8250-64ebfcd650e0"
      },
      "source": [
        "plt.figure(figsize=(20,5))\n",
        "plt.subplot(1,3,1)\n",
        "sb.boxplot(y='Total day charge', x='Churn', data=telecom_df, sym = '')\n",
        "\n",
        "plt.subplot(1,3,2)\n",
        "sb.boxplot(y='Total eve charge', x='Churn', data=telecom_df, sym = '')\n",
        "\n",
        "plt.subplot(1,3,3)\n",
        "sb.boxplot(y='Total night charge', x='Churn', data=telecom_df, sym = '')\n",
        "\n",
        "plt.show()"
      ],
      "execution_count": 35,
      "outputs": [
        {
          "output_type": "display_data",
          "data": {
            "image/png": "[encoded data removed]",
            "text/plain": [
              "<Figure size 1440x360 with 3 Axes>"
            ]
          },
          "metadata": {
            "tags": [],
            "needs_background": "light"
          }
        }
      ]
    },
    {
      "cell_type": "markdown",
      "metadata": {
        "id": "Nzt_TctQ3ApX"
      },
      "source": [
        "These plots for day, evening and night charges are similar to the minutes plot shown above. It is quite obvious that more talking minutes will incur more charges. Similarly, evening and night charge are not contributing to churn analysis."
      ]
    },
    {
      "cell_type": "code",
      "metadata": {
        "id": "uvGC6rbb6eha",
        "colab": {
          "base_uri": "https://localhost:8080/",
          "height": 334
        },
        "outputId": "2f52cea7-e652-4dc7-9b9a-042d54fcbe6c"
      },
      "source": [
        "plt.figure(figsize=(20,5))\n",
        "plt.subplot(1,3,1)\n",
        "sb.boxplot(y='Total day calls', x='Churn', data=telecom_df, sym = '')\n",
        "\n",
        "plt.subplot(1,3,2)\n",
        "sb.boxplot(y='Total eve calls', x='Churn', data=telecom_df, sym = '')\n",
        "\n",
        "plt.subplot(1,3,3)\n",
        "sb.boxplot(y='Total night calls', x='Churn', data=telecom_df, sym = '')\n",
        "\n",
        "plt.show()"
      ],
      "execution_count": 36,
      "outputs": [
        {
          "output_type": "display_data",
          "data": {
            "image/png": "[encoded data removed]",
            "text/plain": [
              "<Figure size 1440x360 with 3 Axes>"
            ]
          },
          "metadata": {
            "tags": [],
            "needs_background": "light"
          }
        }
      ]
    },
    {
      "cell_type": "markdown",
      "metadata": {
        "id": "7ilg9t4JA0bK"
      },
      "source": [
        "Average calls for day, evening and night are almost similar for both churned and unchurned users. So, these columns cannot be used for churn data analysis."
      ]
    },
    {
      "cell_type": "markdown",
      "metadata": {
        "id": "7Wh8Gq_NEVXt"
      },
      "source": [
        "# Now Considering Customer service calls with respect to churn"
      ]
    },
    {
      "cell_type": "code",
      "metadata": {
        "colab": {
          "base_uri": "https://localhost:8080/",
          "height": 388
        },
        "id": "iH8h2uhUw1jH",
        "outputId": "8eeb3b58-b12f-41d3-9600-64b2f14666e6"
      },
      "source": [
        "pd.crosstab(telecom_df[\"Customer service calls\"], telecom_df[\"Churn\"])"
      ],
      "execution_count": 37,
      "outputs": [
        {
          "output_type": "execute_result",
          "data": {
            "text/html": [
              "<div>\n",
              "<style scoped>\n",
              "    .dataframe tbody tr th:only-of-type {\n",
              "        vertical-align: middle;\n",
              "    }\n",
              "\n",
              "    .dataframe tbody tr th {\n",
              "        vertical-align: top;\n",
              "    }\n",
              "\n",
              "    .dataframe thead th {\n",
              "        text-align: right;\n",
              "    }\n",
              "</style>\n",
              "<table border=\"1\" class=\"dataframe\">\n",
              "  <thead>\n",
              "    <tr style=\"text-align: right;\">\n",
              "      <th>Churn</th>\n",
              "      <th>False</th>\n",
              "      <th>True</th>\n",
              "    </tr>\n",
              "    <tr>\n",
              "      <th>Customer service calls</th>\n",
              "      <th></th>\n",
              "      <th></th>\n",
              "    </tr>\n",
              "  </thead>\n",
              "  <tbody>\n",
              "    <tr>\n",
              "      <th>0</th>\n",
              "      <td>605</td>\n",
              "      <td>92</td>\n",
              "    </tr>\n",
              "    <tr>\n",
              "      <th>1</th>\n",
              "      <td>1059</td>\n",
              "      <td>122</td>\n",
              "    </tr>\n",
              "    <tr>\n",
              "      <th>2</th>\n",
              "      <td>672</td>\n",
              "      <td>87</td>\n",
              "    </tr>\n",
              "    <tr>\n",
              "      <th>3</th>\n",
              "      <td>385</td>\n",
              "      <td>44</td>\n",
              "    </tr>\n",
              "    <tr>\n",
              "      <th>4</th>\n",
              "      <td>90</td>\n",
              "      <td>76</td>\n",
              "    </tr>\n",
              "    <tr>\n",
              "      <th>5</th>\n",
              "      <td>26</td>\n",
              "      <td>40</td>\n",
              "    </tr>\n",
              "    <tr>\n",
              "      <th>6</th>\n",
              "      <td>8</td>\n",
              "      <td>14</td>\n",
              "    </tr>\n",
              "    <tr>\n",
              "      <th>7</th>\n",
              "      <td>4</td>\n",
              "      <td>5</td>\n",
              "    </tr>\n",
              "    <tr>\n",
              "      <th>8</th>\n",
              "      <td>1</td>\n",
              "      <td>1</td>\n",
              "    </tr>\n",
              "    <tr>\n",
              "      <th>9</th>\n",
              "      <td>0</td>\n",
              "      <td>2</td>\n",
              "    </tr>\n",
              "  </tbody>\n",
              "</table>\n",
              "</div>"
            ],
            "text/plain": [
              "Churn                   False  True \n",
              "Customer service calls              \n",
              "0                         605     92\n",
              "1                        1059    122\n",
              "2                         672     87\n",
              "3                         385     44\n",
              "4                          90     76\n",
              "5                          26     40\n",
              "6                           8     14\n",
              "7                           4      5\n",
              "8                           1      1\n",
              "9                           0      2"
            ]
          },
          "metadata": {
            "tags": []
          },
          "execution_count": 37
        }
      ]
    },
    {
      "cell_type": "code",
      "metadata": {
        "id": "RNKeRNt19lix"
      },
      "source": [
        "customer_call_churn = telecom_df.groupby(['Customer service calls'])['Churn'].agg([np.mean]).rename(columns = {'mean':'churn_rate'})\n",
        "customer_call_churn['number'] = customer_call_churn.index.values\n"
      ],
      "execution_count": 38,
      "outputs": []
    },
    {
      "cell_type": "code",
      "metadata": {
        "colab": {
          "base_uri": "https://localhost:8080/",
          "height": 351
        },
        "id": "WLCrx0DCde9m",
        "outputId": "d942f867-3fab-455b-e7b9-2a39aea9bc68"
      },
      "source": [
        "plt.figure(figsize=(10,5))\n",
        "sb.barplot(y='churn_rate', x='number', data=customer_call_churn)"
      ],
      "execution_count": 39,
      "outputs": [
        {
          "output_type": "execute_result",
          "data": {
            "text/plain": [
              "<matplotlib.axes._subplots.AxesSubplot at 0x7feeb20d8f90>"
            ]
          },
          "metadata": {
            "tags": []
          },
          "execution_count": 39
        },
        {
          "output_type": "display_data",
          "data": {
            "image/png": "[encoded data removed]",
            "text/plain": [
              "<Figure size 720x360 with 1 Axes>"
            ]
          },
          "metadata": {
            "tags": [],
            "needs_background": "light"
          }
        }
      ]
    },
    {
      "cell_type": "markdown",
      "metadata": {
        "id": "Z7fDIzIYnEzl"
      },
      "source": [
        "From this bar plot, it is clearly seen that the users who are calling customer care service more than 3 times are churning at higher rate. May be these customers are not happy with the service and if issues are not resolved till 3 customer calls, most of the customers end up churning out from the service."
      ]
    },
    {
      "cell_type": "markdown",
      "metadata": {
        "id": "uDpJwcgBcUo4"
      },
      "source": [
        "# State wise churned customers data"
      ]
    },
    {
      "cell_type": "code",
      "metadata": {
        "colab": {
          "base_uri": "https://localhost:8080/",
          "height": 1000
        },
        "id": "NbS1Zw7wGYkN",
        "outputId": "389e4aa8-0bbc-4237-f4cd-77acc4e27529"
      },
      "source": [
        "pd.crosstab(telecom_df['State'], telecom_df['Churn'], margins=True)"
      ],
      "execution_count": 40,
      "outputs": [
        {
          "output_type": "execute_result",
          "data": {
            "text/html": [
              "<div>\n",
              "<style scoped>\n",
              "    .dataframe tbody tr th:only-of-type {\n",
              "        vertical-align: middle;\n",
              "    }\n",
              "\n",
              "    .dataframe tbody tr th {\n",
              "        vertical-align: top;\n",
              "    }\n",
              "\n",
              "    .dataframe thead th {\n",
              "        text-align: right;\n",
              "    }\n",
              "</style>\n",
              "<table border=\"1\" class=\"dataframe\">\n",
              "  <thead>\n",
              "    <tr style=\"text-align: right;\">\n",
              "      <th>Churn</th>\n",
              "      <th>False</th>\n",
              "      <th>True</th>\n",
              "      <th>All</th>\n",
              "    </tr>\n",
              "    <tr>\n",
              "      <th>State</th>\n",
              "      <th></th>\n",
              "      <th></th>\n",
              "      <th></th>\n",
              "    </tr>\n",
              "  </thead>\n",
              "  <tbody>\n",
              "    <tr>\n",
              "      <th>AK</th>\n",
              "      <td>49</td>\n",
              "      <td>3</td>\n",
              "      <td>52</td>\n",
              "    </tr>\n",
              "    <tr>\n",
              "      <th>AL</th>\n",
              "      <td>72</td>\n",
              "      <td>8</td>\n",
              "      <td>80</td>\n",
              "    </tr>\n",
              "    <tr>\n",
              "      <th>AR</th>\n",
              "      <td>44</td>\n",
              "      <td>11</td>\n",
              "      <td>55</td>\n",
              "    </tr>\n",
              "    <tr>\n",
              "      <th>AZ</th>\n",
              "      <td>60</td>\n",
              "      <td>4</td>\n",
              "      <td>64</td>\n",
              "    </tr>\n",
              "    <tr>\n",
              "      <th>CA</th>\n",
              "      <td>25</td>\n",
              "      <td>9</td>\n",
              "      <td>34</td>\n",
              "    </tr>\n",
              "    <tr>\n",
              "      <th>CO</th>\n",
              "      <td>57</td>\n",
              "      <td>9</td>\n",
              "      <td>66</td>\n",
              "    </tr>\n",
              "    <tr>\n",
              "      <th>CT</th>\n",
              "      <td>62</td>\n",
              "      <td>12</td>\n",
              "      <td>74</td>\n",
              "    </tr>\n",
              "    <tr>\n",
              "      <th>DC</th>\n",
              "      <td>49</td>\n",
              "      <td>5</td>\n",
              "      <td>54</td>\n",
              "    </tr>\n",
              "    <tr>\n",
              "      <th>DE</th>\n",
              "      <td>52</td>\n",
              "      <td>9</td>\n",
              "      <td>61</td>\n",
              "    </tr>\n",
              "    <tr>\n",
              "      <th>FL</th>\n",
              "      <td>55</td>\n",
              "      <td>8</td>\n",
              "      <td>63</td>\n",
              "    </tr>\n",
              "    <tr>\n",
              "      <th>GA</th>\n",
              "      <td>46</td>\n",
              "      <td>8</td>\n",
              "      <td>54</td>\n",
              "    </tr>\n",
              "    <tr>\n",
              "      <th>HI</th>\n",
              "      <td>50</td>\n",
              "      <td>3</td>\n",
              "      <td>53</td>\n",
              "    </tr>\n",
              "    <tr>\n",
              "      <th>IA</th>\n",
              "      <td>41</td>\n",
              "      <td>3</td>\n",
              "      <td>44</td>\n",
              "    </tr>\n",
              "    <tr>\n",
              "      <th>ID</th>\n",
              "      <td>64</td>\n",
              "      <td>9</td>\n",
              "      <td>73</td>\n",
              "    </tr>\n",
              "    <tr>\n",
              "      <th>IL</th>\n",
              "      <td>53</td>\n",
              "      <td>5</td>\n",
              "      <td>58</td>\n",
              "    </tr>\n",
              "    <tr>\n",
              "      <th>IN</th>\n",
              "      <td>62</td>\n",
              "      <td>9</td>\n",
              "      <td>71</td>\n",
              "    </tr>\n",
              "    <tr>\n",
              "      <th>KS</th>\n",
              "      <td>57</td>\n",
              "      <td>13</td>\n",
              "      <td>70</td>\n",
              "    </tr>\n",
              "    <tr>\n",
              "      <th>KY</th>\n",
              "      <td>51</td>\n",
              "      <td>8</td>\n",
              "      <td>59</td>\n",
              "    </tr>\n",
              "    <tr>\n",
              "      <th>LA</th>\n",
              "      <td>47</td>\n",
              "      <td>4</td>\n",
              "      <td>51</td>\n",
              "    </tr>\n",
              "    <tr>\n",
              "      <th>MA</th>\n",
              "      <td>54</td>\n",
              "      <td>11</td>\n",
              "      <td>65</td>\n",
              "    </tr>\n",
              "    <tr>\n",
              "      <th>MD</th>\n",
              "      <td>53</td>\n",
              "      <td>17</td>\n",
              "      <td>70</td>\n",
              "    </tr>\n",
              "    <tr>\n",
              "      <th>ME</th>\n",
              "      <td>49</td>\n",
              "      <td>13</td>\n",
              "      <td>62</td>\n",
              "    </tr>\n",
              "    <tr>\n",
              "      <th>MI</th>\n",
              "      <td>57</td>\n",
              "      <td>16</td>\n",
              "      <td>73</td>\n",
              "    </tr>\n",
              "    <tr>\n",
              "      <th>MN</th>\n",
              "      <td>69</td>\n",
              "      <td>15</td>\n",
              "      <td>84</td>\n",
              "    </tr>\n",
              "    <tr>\n",
              "      <th>MO</th>\n",
              "      <td>56</td>\n",
              "      <td>7</td>\n",
              "      <td>63</td>\n",
              "    </tr>\n",
              "    <tr>\n",
              "      <th>MS</th>\n",
              "      <td>51</td>\n",
              "      <td>14</td>\n",
              "      <td>65</td>\n",
              "    </tr>\n",
              "    <tr>\n",
              "      <th>MT</th>\n",
              "      <td>54</td>\n",
              "      <td>14</td>\n",
              "      <td>68</td>\n",
              "    </tr>\n",
              "    <tr>\n",
              "      <th>NC</th>\n",
              "      <td>57</td>\n",
              "      <td>11</td>\n",
              "      <td>68</td>\n",
              "    </tr>\n",
              "    <tr>\n",
              "      <th>ND</th>\n",
              "      <td>56</td>\n",
              "      <td>6</td>\n",
              "      <td>62</td>\n",
              "    </tr>\n",
              "    <tr>\n",
              "      <th>NE</th>\n",
              "      <td>56</td>\n",
              "      <td>5</td>\n",
              "      <td>61</td>\n",
              "    </tr>\n",
              "    <tr>\n",
              "      <th>NH</th>\n",
              "      <td>47</td>\n",
              "      <td>9</td>\n",
              "      <td>56</td>\n",
              "    </tr>\n",
              "    <tr>\n",
              "      <th>NJ</th>\n",
              "      <td>50</td>\n",
              "      <td>18</td>\n",
              "      <td>68</td>\n",
              "    </tr>\n",
              "    <tr>\n",
              "      <th>NM</th>\n",
              "      <td>56</td>\n",
              "      <td>6</td>\n",
              "      <td>62</td>\n",
              "    </tr>\n",
              "    <tr>\n",
              "      <th>NV</th>\n",
              "      <td>52</td>\n",
              "      <td>14</td>\n",
              "      <td>66</td>\n",
              "    </tr>\n",
              "    <tr>\n",
              "      <th>NY</th>\n",
              "      <td>68</td>\n",
              "      <td>15</td>\n",
              "      <td>83</td>\n",
              "    </tr>\n",
              "    <tr>\n",
              "      <th>OH</th>\n",
              "      <td>68</td>\n",
              "      <td>10</td>\n",
              "      <td>78</td>\n",
              "    </tr>\n",
              "    <tr>\n",
              "      <th>OK</th>\n",
              "      <td>52</td>\n",
              "      <td>9</td>\n",
              "      <td>61</td>\n",
              "    </tr>\n",
              "    <tr>\n",
              "      <th>OR</th>\n",
              "      <td>67</td>\n",
              "      <td>11</td>\n",
              "      <td>78</td>\n",
              "    </tr>\n",
              "    <tr>\n",
              "      <th>PA</th>\n",
              "      <td>37</td>\n",
              "      <td>8</td>\n",
              "      <td>45</td>\n",
              "    </tr>\n",
              "    <tr>\n",
              "      <th>RI</th>\n",
              "      <td>59</td>\n",
              "      <td>6</td>\n",
              "      <td>65</td>\n",
              "    </tr>\n",
              "    <tr>\n",
              "      <th>SC</th>\n",
              "      <td>46</td>\n",
              "      <td>14</td>\n",
              "      <td>60</td>\n",
              "    </tr>\n",
              "    <tr>\n",
              "      <th>SD</th>\n",
              "      <td>52</td>\n",
              "      <td>8</td>\n",
              "      <td>60</td>\n",
              "    </tr>\n",
              "    <tr>\n",
              "      <th>TN</th>\n",
              "      <td>48</td>\n",
              "      <td>5</td>\n",
              "      <td>53</td>\n",
              "    </tr>\n",
              "    <tr>\n",
              "      <th>TX</th>\n",
              "      <td>54</td>\n",
              "      <td>18</td>\n",
              "      <td>72</td>\n",
              "    </tr>\n",
              "    <tr>\n",
              "      <th>UT</th>\n",
              "      <td>62</td>\n",
              "      <td>10</td>\n",
              "      <td>72</td>\n",
              "    </tr>\n",
              "    <tr>\n",
              "      <th>VA</th>\n",
              "      <td>72</td>\n",
              "      <td>5</td>\n",
              "      <td>77</td>\n",
              "    </tr>\n",
              "    <tr>\n",
              "      <th>VT</th>\n",
              "      <td>65</td>\n",
              "      <td>8</td>\n",
              "      <td>73</td>\n",
              "    </tr>\n",
              "    <tr>\n",
              "      <th>WA</th>\n",
              "      <td>52</td>\n",
              "      <td>14</td>\n",
              "      <td>66</td>\n",
              "    </tr>\n",
              "    <tr>\n",
              "      <th>WI</th>\n",
              "      <td>71</td>\n",
              "      <td>7</td>\n",
              "      <td>78</td>\n",
              "    </tr>\n",
              "    <tr>\n",
              "      <th>WV</th>\n",
              "      <td>96</td>\n",
              "      <td>10</td>\n",
              "      <td>106</td>\n",
              "    </tr>\n",
              "    <tr>\n",
              "      <th>WY</th>\n",
              "      <td>68</td>\n",
              "      <td>9</td>\n",
              "      <td>77</td>\n",
              "    </tr>\n",
              "    <tr>\n",
              "      <th>All</th>\n",
              "      <td>2850</td>\n",
              "      <td>483</td>\n",
              "      <td>3333</td>\n",
              "    </tr>\n",
              "  </tbody>\n",
              "</table>\n",
              "</div>"
            ],
            "text/plain": [
              "Churn  False  True   All\n",
              "State                   \n",
              "AK        49     3    52\n",
              "AL        72     8    80\n",
              "AR        44    11    55\n",
              "AZ        60     4    64\n",
              "CA        25     9    34\n",
              "CO        57     9    66\n",
              "CT        62    12    74\n",
              "DC        49     5    54\n",
              "DE        52     9    61\n",
              "FL        55     8    63\n",
              "GA        46     8    54\n",
              "HI        50     3    53\n",
              "IA        41     3    44\n",
              "ID        64     9    73\n",
              "IL        53     5    58\n",
              "IN        62     9    71\n",
              "KS        57    13    70\n",
              "KY        51     8    59\n",
              "LA        47     4    51\n",
              "MA        54    11    65\n",
              "MD        53    17    70\n",
              "ME        49    13    62\n",
              "MI        57    16    73\n",
              "MN        69    15    84\n",
              "MO        56     7    63\n",
              "MS        51    14    65\n",
              "MT        54    14    68\n",
              "NC        57    11    68\n",
              "ND        56     6    62\n",
              "NE        56     5    61\n",
              "NH        47     9    56\n",
              "NJ        50    18    68\n",
              "NM        56     6    62\n",
              "NV        52    14    66\n",
              "NY        68    15    83\n",
              "OH        68    10    78\n",
              "OK        52     9    61\n",
              "OR        67    11    78\n",
              "PA        37     8    45\n",
              "RI        59     6    65\n",
              "SC        46    14    60\n",
              "SD        52     8    60\n",
              "TN        48     5    53\n",
              "TX        54    18    72\n",
              "UT        62    10    72\n",
              "VA        72     5    77\n",
              "VT        65     8    73\n",
              "WA        52    14    66\n",
              "WI        71     7    78\n",
              "WV        96    10   106\n",
              "WY        68     9    77\n",
              "All     2850   483  3333"
            ]
          },
          "metadata": {
            "tags": []
          },
          "execution_count": 40
        }
      ]
    },
    {
      "cell_type": "code",
      "metadata": {
        "colab": {
          "base_uri": "https://localhost:8080/",
          "height": 1000
        },
        "id": "1Yf4kBRKc7vw",
        "outputId": "27376f71-6660-4cc3-d531-ae5ae226973f"
      },
      "source": [
        "state_churn = pd.pivot_table(telecom_df,index=['State'],values=['Churn'], aggfunc = np.mean)\n",
        "state_churn = state_churn.sort_values(by = 'Churn', ascending = False)\n",
        "state_churn"
      ],
      "execution_count": 41,
      "outputs": [
        {
          "output_type": "execute_result",
          "data": {
            "text/html": [
              "<div>\n",
              "<style scoped>\n",
              "    .dataframe tbody tr th:only-of-type {\n",
              "        vertical-align: middle;\n",
              "    }\n",
              "\n",
              "    .dataframe tbody tr th {\n",
              "        vertical-align: top;\n",
              "    }\n",
              "\n",
              "    .dataframe thead th {\n",
              "        text-align: right;\n",
              "    }\n",
              "</style>\n",
              "<table border=\"1\" class=\"dataframe\">\n",
              "  <thead>\n",
              "    <tr style=\"text-align: right;\">\n",
              "      <th></th>\n",
              "      <th>Churn</th>\n",
              "    </tr>\n",
              "    <tr>\n",
              "      <th>State</th>\n",
              "      <th></th>\n",
              "    </tr>\n",
              "  </thead>\n",
              "  <tbody>\n",
              "    <tr>\n",
              "      <th>NJ</th>\n",
              "      <td>0.264706</td>\n",
              "    </tr>\n",
              "    <tr>\n",
              "      <th>CA</th>\n",
              "      <td>0.264706</td>\n",
              "    </tr>\n",
              "    <tr>\n",
              "      <th>TX</th>\n",
              "      <td>0.250000</td>\n",
              "    </tr>\n",
              "    <tr>\n",
              "      <th>MD</th>\n",
              "      <td>0.242857</td>\n",
              "    </tr>\n",
              "    <tr>\n",
              "      <th>SC</th>\n",
              "      <td>0.233333</td>\n",
              "    </tr>\n",
              "    <tr>\n",
              "      <th>MI</th>\n",
              "      <td>0.219178</td>\n",
              "    </tr>\n",
              "    <tr>\n",
              "      <th>MS</th>\n",
              "      <td>0.215385</td>\n",
              "    </tr>\n",
              "    <tr>\n",
              "      <th>NV</th>\n",
              "      <td>0.212121</td>\n",
              "    </tr>\n",
              "    <tr>\n",
              "      <th>WA</th>\n",
              "      <td>0.212121</td>\n",
              "    </tr>\n",
              "    <tr>\n",
              "      <th>ME</th>\n",
              "      <td>0.209677</td>\n",
              "    </tr>\n",
              "    <tr>\n",
              "      <th>MT</th>\n",
              "      <td>0.205882</td>\n",
              "    </tr>\n",
              "    <tr>\n",
              "      <th>AR</th>\n",
              "      <td>0.200000</td>\n",
              "    </tr>\n",
              "    <tr>\n",
              "      <th>KS</th>\n",
              "      <td>0.185714</td>\n",
              "    </tr>\n",
              "    <tr>\n",
              "      <th>NY</th>\n",
              "      <td>0.180723</td>\n",
              "    </tr>\n",
              "    <tr>\n",
              "      <th>MN</th>\n",
              "      <td>0.178571</td>\n",
              "    </tr>\n",
              "    <tr>\n",
              "      <th>PA</th>\n",
              "      <td>0.177778</td>\n",
              "    </tr>\n",
              "    <tr>\n",
              "      <th>MA</th>\n",
              "      <td>0.169231</td>\n",
              "    </tr>\n",
              "    <tr>\n",
              "      <th>CT</th>\n",
              "      <td>0.162162</td>\n",
              "    </tr>\n",
              "    <tr>\n",
              "      <th>NC</th>\n",
              "      <td>0.161765</td>\n",
              "    </tr>\n",
              "    <tr>\n",
              "      <th>NH</th>\n",
              "      <td>0.160714</td>\n",
              "    </tr>\n",
              "    <tr>\n",
              "      <th>GA</th>\n",
              "      <td>0.148148</td>\n",
              "    </tr>\n",
              "    <tr>\n",
              "      <th>DE</th>\n",
              "      <td>0.147541</td>\n",
              "    </tr>\n",
              "    <tr>\n",
              "      <th>OK</th>\n",
              "      <td>0.147541</td>\n",
              "    </tr>\n",
              "    <tr>\n",
              "      <th>OR</th>\n",
              "      <td>0.141026</td>\n",
              "    </tr>\n",
              "    <tr>\n",
              "      <th>UT</th>\n",
              "      <td>0.138889</td>\n",
              "    </tr>\n",
              "    <tr>\n",
              "      <th>CO</th>\n",
              "      <td>0.136364</td>\n",
              "    </tr>\n",
              "    <tr>\n",
              "      <th>KY</th>\n",
              "      <td>0.135593</td>\n",
              "    </tr>\n",
              "    <tr>\n",
              "      <th>SD</th>\n",
              "      <td>0.133333</td>\n",
              "    </tr>\n",
              "    <tr>\n",
              "      <th>OH</th>\n",
              "      <td>0.128205</td>\n",
              "    </tr>\n",
              "    <tr>\n",
              "      <th>FL</th>\n",
              "      <td>0.126984</td>\n",
              "    </tr>\n",
              "    <tr>\n",
              "      <th>IN</th>\n",
              "      <td>0.126761</td>\n",
              "    </tr>\n",
              "    <tr>\n",
              "      <th>ID</th>\n",
              "      <td>0.123288</td>\n",
              "    </tr>\n",
              "    <tr>\n",
              "      <th>WY</th>\n",
              "      <td>0.116883</td>\n",
              "    </tr>\n",
              "    <tr>\n",
              "      <th>MO</th>\n",
              "      <td>0.111111</td>\n",
              "    </tr>\n",
              "    <tr>\n",
              "      <th>VT</th>\n",
              "      <td>0.109589</td>\n",
              "    </tr>\n",
              "    <tr>\n",
              "      <th>AL</th>\n",
              "      <td>0.100000</td>\n",
              "    </tr>\n",
              "    <tr>\n",
              "      <th>NM</th>\n",
              "      <td>0.096774</td>\n",
              "    </tr>\n",
              "    <tr>\n",
              "      <th>ND</th>\n",
              "      <td>0.096774</td>\n",
              "    </tr>\n",
              "    <tr>\n",
              "      <th>WV</th>\n",
              "      <td>0.094340</td>\n",
              "    </tr>\n",
              "    <tr>\n",
              "      <th>TN</th>\n",
              "      <td>0.094340</td>\n",
              "    </tr>\n",
              "    <tr>\n",
              "      <th>DC</th>\n",
              "      <td>0.092593</td>\n",
              "    </tr>\n",
              "    <tr>\n",
              "      <th>RI</th>\n",
              "      <td>0.092308</td>\n",
              "    </tr>\n",
              "    <tr>\n",
              "      <th>WI</th>\n",
              "      <td>0.089744</td>\n",
              "    </tr>\n",
              "    <tr>\n",
              "      <th>IL</th>\n",
              "      <td>0.086207</td>\n",
              "    </tr>\n",
              "    <tr>\n",
              "      <th>NE</th>\n",
              "      <td>0.081967</td>\n",
              "    </tr>\n",
              "    <tr>\n",
              "      <th>LA</th>\n",
              "      <td>0.078431</td>\n",
              "    </tr>\n",
              "    <tr>\n",
              "      <th>IA</th>\n",
              "      <td>0.068182</td>\n",
              "    </tr>\n",
              "    <tr>\n",
              "      <th>VA</th>\n",
              "      <td>0.064935</td>\n",
              "    </tr>\n",
              "    <tr>\n",
              "      <th>AZ</th>\n",
              "      <td>0.062500</td>\n",
              "    </tr>\n",
              "    <tr>\n",
              "      <th>AK</th>\n",
              "      <td>0.057692</td>\n",
              "    </tr>\n",
              "    <tr>\n",
              "      <th>HI</th>\n",
              "      <td>0.056604</td>\n",
              "    </tr>\n",
              "  </tbody>\n",
              "</table>\n",
              "</div>"
            ],
            "text/plain": [
              "          Churn\n",
              "State          \n",
              "NJ     0.264706\n",
              "CA     0.264706\n",
              "TX     0.250000\n",
              "MD     0.242857\n",
              "SC     0.233333\n",
              "MI     0.219178\n",
              "MS     0.215385\n",
              "NV     0.212121\n",
              "WA     0.212121\n",
              "ME     0.209677\n",
              "MT     0.205882\n",
              "AR     0.200000\n",
              "KS     0.185714\n",
              "NY     0.180723\n",
              "MN     0.178571\n",
              "PA     0.177778\n",
              "MA     0.169231\n",
              "CT     0.162162\n",
              "NC     0.161765\n",
              "NH     0.160714\n",
              "GA     0.148148\n",
              "DE     0.147541\n",
              "OK     0.147541\n",
              "OR     0.141026\n",
              "UT     0.138889\n",
              "CO     0.136364\n",
              "KY     0.135593\n",
              "SD     0.133333\n",
              "OH     0.128205\n",
              "FL     0.126984\n",
              "IN     0.126761\n",
              "ID     0.123288\n",
              "WY     0.116883\n",
              "MO     0.111111\n",
              "VT     0.109589\n",
              "AL     0.100000\n",
              "NM     0.096774\n",
              "ND     0.096774\n",
              "WV     0.094340\n",
              "TN     0.094340\n",
              "DC     0.092593\n",
              "RI     0.092308\n",
              "WI     0.089744\n",
              "IL     0.086207\n",
              "NE     0.081967\n",
              "LA     0.078431\n",
              "IA     0.068182\n",
              "VA     0.064935\n",
              "AZ     0.062500\n",
              "AK     0.057692\n",
              "HI     0.056604"
            ]
          },
          "metadata": {
            "tags": []
          },
          "execution_count": 41
        }
      ]
    },
    {
      "cell_type": "code",
      "metadata": {
        "id": "sZSGakAhcZUg"
      },
      "source": [
        "state_churn['state name'] = state_churn.index"
      ],
      "execution_count": 42,
      "outputs": []
    },
    {
      "cell_type": "code",
      "metadata": {
        "id": "UPrNj-1PAifI",
        "colab": {
          "base_uri": "https://localhost:8080/",
          "height": 234
        },
        "outputId": "42e17681-2073-4362-8287-32b7c86e4b92"
      },
      "source": [
        "#Top 5 states with higher churn rate\n",
        "state_churn.head()"
      ],
      "execution_count": 43,
      "outputs": [
        {
          "output_type": "execute_result",
          "data": {
            "text/html": [
              "<div>\n",
              "<style scoped>\n",
              "    .dataframe tbody tr th:only-of-type {\n",
              "        vertical-align: middle;\n",
              "    }\n",
              "\n",
              "    .dataframe tbody tr th {\n",
              "        vertical-align: top;\n",
              "    }\n",
              "\n",
              "    .dataframe thead th {\n",
              "        text-align: right;\n",
              "    }\n",
              "</style>\n",
              "<table border=\"1\" class=\"dataframe\">\n",
              "  <thead>\n",
              "    <tr style=\"text-align: right;\">\n",
              "      <th></th>\n",
              "      <th>Churn</th>\n",
              "      <th>state name</th>\n",
              "    </tr>\n",
              "    <tr>\n",
              "      <th>State</th>\n",
              "      <th></th>\n",
              "      <th></th>\n",
              "    </tr>\n",
              "  </thead>\n",
              "  <tbody>\n",
              "    <tr>\n",
              "      <th>NJ</th>\n",
              "      <td>0.264706</td>\n",
              "      <td>NJ</td>\n",
              "    </tr>\n",
              "    <tr>\n",
              "      <th>CA</th>\n",
              "      <td>0.264706</td>\n",
              "      <td>CA</td>\n",
              "    </tr>\n",
              "    <tr>\n",
              "      <th>TX</th>\n",
              "      <td>0.250000</td>\n",
              "      <td>TX</td>\n",
              "    </tr>\n",
              "    <tr>\n",
              "      <th>MD</th>\n",
              "      <td>0.242857</td>\n",
              "      <td>MD</td>\n",
              "    </tr>\n",
              "    <tr>\n",
              "      <th>SC</th>\n",
              "      <td>0.233333</td>\n",
              "      <td>SC</td>\n",
              "    </tr>\n",
              "  </tbody>\n",
              "</table>\n",
              "</div>"
            ],
            "text/plain": [
              "          Churn state name\n",
              "State                     \n",
              "NJ     0.264706         NJ\n",
              "CA     0.264706         CA\n",
              "TX     0.250000         TX\n",
              "MD     0.242857         MD\n",
              "SC     0.233333         SC"
            ]
          },
          "metadata": {
            "tags": []
          },
          "execution_count": 43
        }
      ]
    },
    {
      "cell_type": "code",
      "metadata": {
        "id": "x6UUT16WB9Zw",
        "colab": {
          "base_uri": "https://localhost:8080/",
          "height": 282
        },
        "outputId": "3c5aa803-55d2-40c4-9f6a-4a42c7c47d54"
      },
      "source": [
        "plt.bar(state_churn.head()['state name'],state_churn.head()['Churn']*100)\n"
      ],
      "execution_count": 44,
      "outputs": [
        {
          "output_type": "execute_result",
          "data": {
            "text/plain": [
              "<BarContainer object of 5 artists>"
            ]
          },
          "metadata": {
            "tags": []
          },
          "execution_count": 44
        },
        {
          "output_type": "display_data",
          "data": {
            "image/png": "[encoded data removed]",
            "text/plain": [
              "<Figure size 432x288 with 1 Axes>"
            ]
          },
          "metadata": {
            "tags": [],
            "needs_background": "light"
          }
        }
      ]
    },
    {
      "cell_type": "markdown",
      "metadata": {
        "id": "GWivmWiyb4R5"
      },
      "source": [
        "This shows that the top 5 states with are higher churning rates are NJ, CA, TX, MD and SC and their churning rate is more than 23 %."
      ]
    },
    {
      "cell_type": "code",
      "metadata": {
        "id": "l4jg_7GWStdA"
      },
      "source": [
        "#state_churn = pd.pivot_table(telecom_df,index=['State'],values=['Churn'], aggfunc = np.mean)\n",
        "#state_churn = state_churn.sort_values(by = 'Churn', ascending = False)\n"
      ],
      "execution_count": null,
      "outputs": []
    },
    {
      "cell_type": "code",
      "metadata": {
        "id": "1xzhYitWW0Xd"
      },
      "source": [
        "#Intl_churn_table = pd.pivot_table(telecom_df, values='Churn', index=['International plan'], aggfunc=[len,np.sum,np.mean])\n",
        "#Intl_churn_table"
      ],
      "execution_count": null,
      "outputs": []
    },
    {
      "cell_type": "markdown",
      "metadata": {
        "id": "UuoJP0Jve6SM"
      },
      "source": [
        "**Till now, it is understood that there are few column datas which are actually affecting the churn rate like Total day minutes/Total day charge, International plan, Customer service calls while others are having less impact on the churn rate.**\n",
        "\n"
      ]
    },
    {
      "cell_type": "markdown",
      "metadata": {
        "id": "l3fvC883xQOW"
      },
      "source": [
        "Plotting bivariate "
      ]
    },
    {
      "cell_type": "markdown",
      "metadata": {
        "id": "mL7LLBOTihBf"
      },
      "source": [
        "Taking the Total day minutes vs churn graph for each customer service calls"
      ]
    },
    {
      "cell_type": "code",
      "metadata": {
        "id": "5jJMZXQyjCZ9",
        "colab": {
          "base_uri": "https://localhost:8080/",
          "height": 1000
        },
        "outputId": "fdda70a2-231d-4c65-8531-7aeaa715f882"
      },
      "source": [
        "customer_call_0 = telecom_df[telecom_df['Customer service calls'] == 0]\n",
        "customer_call_1 = telecom_df[telecom_df['Customer service calls'] == 1]\n",
        "customer_call_2 = telecom_df[telecom_df['Customer service calls'] == 2]\n",
        "customer_call_3 = telecom_df[telecom_df['Customer service calls'] == 3]\n",
        "customer_call_4 = telecom_df[telecom_df['Customer service calls'] == 4]\n",
        "customer_call_5 = telecom_df[telecom_df['Customer service calls'] == 5]\n",
        "customer_call_6 = telecom_df[telecom_df['Customer service calls'] == 6]\n",
        "customer_call_7 = telecom_df[telecom_df['Customer service calls'] == 7]\n",
        "\n",
        "\n",
        "plt.figure(figsize=(20,20))\n",
        "plt.subplot(3,3,1)\n",
        "sb.boxplot(data = customer_call_0, y = 'Total day minutes', x = 'Churn').set_title('Customer call = 0')\n",
        "\n",
        "plt.subplot(3,3,2)\n",
        "sb.boxplot(data = customer_call_1, y = 'Total day minutes', x = 'Churn').set_title('Customer call = 1')\n",
        "\n",
        "plt.subplot(3,3,3)\n",
        "sb.boxplot(data = customer_call_2, y = 'Total day minutes', x = 'Churn').set_title('Customer call = 2')\n",
        "\n",
        "plt.subplot(3,3,4)\n",
        "sb.boxplot(data = customer_call_3, y = 'Total day minutes', x = 'Churn').set_title('Customer call = 3')\n",
        "\n",
        "plt.subplot(3,3,5)\n",
        "sb.boxplot(data = customer_call_4, y = 'Total day minutes', x = 'Churn').set_title('Customer call = 4')\n",
        "\n",
        "plt.subplot(3,3,6)\n",
        "sb.boxplot(data = customer_call_5, y = 'Total day minutes', x = 'Churn').set_title('Customer call = 5')\n",
        "\n",
        "plt.subplot(3,3,7)\n",
        "sb.boxplot(data = customer_call_6, y = 'Total day minutes', x = 'Churn').set_title('Customer call = 6')\n",
        "\n",
        "plt.subplot(3,3,8)\n",
        "sb.boxplot(data = customer_call_7, y = 'Total day minutes', x = 'Churn').set_title('Customer call = 7')\n"
      ],
      "execution_count": 45,
      "outputs": [
        {
          "output_type": "execute_result",
          "data": {
            "text/plain": [
              "Text(0.5, 1.0, 'Customer call = 7')"
            ]
          },
          "metadata": {
            "tags": []
          },
          "execution_count": 45
        },
        {
          "output_type": "display_data",
          "data": {
            "image/png": "[encoded data removed]",
            "text/plain": [
              "<Figure size 1440x1440 with 8 Axes>"
            ]
          },
          "metadata": {
            "tags": [],
            "needs_background": "light"
          }
        }
      ]
    },
    {
      "cell_type": "markdown",
      "metadata": {
        "id": "X1sbLf81njnn"
      },
      "source": [
        "It can be seen from the above plotting that as the number of customer service calls increases beyond 3 calls, Total day minutes decreases for the customers who are churning out of the service. It means Customers are leaving the service because their grievances are not being tackled."
      ]
    },
    {
      "cell_type": "markdown",
      "metadata": {
        "id": "JqSiAXGboi-p"
      },
      "source": [
        "Now, Considering total  with respect to International plan"
      ]
    },
    {
      "cell_type": "code",
      "metadata": {
        "id": "uvvPd_PrsvAF"
      },
      "source": [
        "telecom_df['Intl_charge_per_min'] = telecom_df['Total intl charge']/telecom_df['Total intl minutes']"
      ],
      "execution_count": 46,
      "outputs": []
    },
    {
      "cell_type": "code",
      "metadata": {
        "id": "TIvyWdGUowsT",
        "colab": {
          "base_uri": "https://localhost:8080/",
          "height": 351
        },
        "outputId": "af387743-3973-45f3-d7f9-6fcc0cefac15"
      },
      "source": [
        "plt.figure(figsize=(10,5))\n",
        "\n",
        "sb.boxplot(data = telecom_df, y = 'Intl_charge_per_min', x = 'International plan', hue = 'Churn', sym = '')"
      ],
      "execution_count": 47,
      "outputs": [
        {
          "output_type": "execute_result",
          "data": {
            "text/plain": [
              "<matplotlib.axes._subplots.AxesSubplot at 0x7feeb1c8d490>"
            ]
          },
          "metadata": {
            "tags": []
          },
          "execution_count": 47
        },
        {
          "output_type": "display_data",
          "data": {
            "image/png": "[encoded data removed]",
            "text/plain": [
              "<Figure size 720x360 with 1 Axes>"
            ]
          },
          "metadata": {
            "tags": [],
            "needs_background": "light"
          }
        }
      ]
    },
    {
      "cell_type": "markdown",
      "metadata": {
        "id": "cxsIs2u-p2B3"
      },
      "source": [
        "From this plot, it can be observed that customers despite of having the international plan are paying almost same charges per international minute as compare to those who have not taken the plan. That's why most of the customers have not taken this plan. And those whose taken the plan are churning at a higher rate.\n"
      ]
    },
    {
      "cell_type": "code",
      "metadata": {
        "id": "LG3kjtox1oaL",
        "colab": {
          "base_uri": "https://localhost:8080/",
          "height": 351
        },
        "outputId": "5cf75bed-0b8c-4463-bcdd-85846ece0e97"
      },
      "source": [
        "plt.figure(figsize=(10,5))\n",
        "\n",
        "sb.boxplot(data = telecom_df, y = 'Customer service calls', hue = 'International plan', x = 'Churn', sym = '')"
      ],
      "execution_count": 48,
      "outputs": [
        {
          "output_type": "execute_result",
          "data": {
            "text/plain": [
              "<matplotlib.axes._subplots.AxesSubplot at 0x7feeb1c8db90>"
            ]
          },
          "metadata": {
            "tags": []
          },
          "execution_count": 48
        },
        {
          "output_type": "display_data",
          "data": {
            "image/png": "[encoded data removed]",
            "text/plain": [
              "<Figure size 720x360 with 1 Axes>"
            ]
          },
          "metadata": {
            "tags": [],
            "needs_background": "light"
          }
        }
      ]
    },
    {
      "cell_type": "markdown",
      "metadata": {
        "id": "ebAQctgG4EQH"
      },
      "source": [
        "This plotting also clears that the customers who are churning are actually doing more number of customer calls but among these customers who are having International plan are doing less number of customer service calls. This may be due to the reason of International plan tarrif provided by the company."
      ]
    },
    {
      "cell_type": "markdown",
      "metadata": {
        "id": "fKL5QcmSew_j"
      },
      "source": [
        "# Presenting the detailed report for each state for only churned customers"
      ]
    },
    {
      "cell_type": "code",
      "metadata": {
        "id": "g6xGdn3EUckT"
      },
      "source": [
        "telecom_df['Churn_intl_users'] = (telecom_df['Churn'] == True) & (telecom_df['International plan'] == True)"
      ],
      "execution_count": 49,
      "outputs": []
    },
    {
      "cell_type": "code",
      "metadata": {
        "colab": {
          "base_uri": "https://localhost:8080/",
          "height": 1000
        },
        "id": "hLKKlK5AnRQm",
        "outputId": "3b2669ec-d9c8-4113-fc1c-cfd77e747630"
      },
      "source": [
        "State_report = telecom_df.groupby('State').agg({'Churn':np.sum, 'International plan':np.sum,'Churn_intl_users':np.sum, 'Total day minutes':np.mean})\n",
        "#State_report['Intl chrg per min'] = churned_users['Total intl charge']\n",
        "State_report['Total users'] = telecom_df['State'].value_counts() \n",
        "\n",
        "State_report['Churn_rate'] = State_report['Churn']/State_report['Total users']\n",
        "\n",
        "State_report['Total day mins churned users'] = churned_users.groupby('State')['Total day minutes'].mean()\n",
        "\n",
        "cols = ['Total users','Churn','Churn_rate','International plan','Churn_intl_users','Total day minutes','Total day mins churned users']\n",
        "State_report = State_report[cols]\n",
        "\n",
        "#State_report = State_report.rename(columns= {'International plan':'Churned users with Intl plan', 'Today day minuters':'Total day mins churned users','Customer service call':'Cust calls churned users'})\n",
        "State_report = State_report.sort_values(by = 'Churn_rate', ascending = False) \n",
        "\n",
        "State_report"
      ],
      "execution_count": 50,
      "outputs": [
        {
          "output_type": "execute_result",
          "data": {
            "text/html": [
              "<div>\n",
              "<style scoped>\n",
              "    .dataframe tbody tr th:only-of-type {\n",
              "        vertical-align: middle;\n",
              "    }\n",
              "\n",
              "    .dataframe tbody tr th {\n",
              "        vertical-align: top;\n",
              "    }\n",
              "\n",
              "    .dataframe thead th {\n",
              "        text-align: right;\n",
              "    }\n",
              "</style>\n",
              "<table border=\"1\" class=\"dataframe\">\n",
              "  <thead>\n",
              "    <tr style=\"text-align: right;\">\n",
              "      <th></th>\n",
              "      <th>Total users</th>\n",
              "      <th>Churn</th>\n",
              "      <th>Churn_rate</th>\n",
              "      <th>International plan</th>\n",
              "      <th>Churn_intl_users</th>\n",
              "      <th>Total day minutes</th>\n",
              "      <th>Total day mins churned users</th>\n",
              "    </tr>\n",
              "    <tr>\n",
              "      <th>State</th>\n",
              "      <th></th>\n",
              "      <th></th>\n",
              "      <th></th>\n",
              "      <th></th>\n",
              "      <th></th>\n",
              "      <th></th>\n",
              "      <th></th>\n",
              "    </tr>\n",
              "  </thead>\n",
              "  <tbody>\n",
              "    <tr>\n",
              "      <th>NJ</th>\n",
              "      <td>68</td>\n",
              "      <td>18</td>\n",
              "      <td>0.264706</td>\n",
              "      <td>6</td>\n",
              "      <td>3</td>\n",
              "      <td>196.225000</td>\n",
              "      <td>231.483333</td>\n",
              "    </tr>\n",
              "    <tr>\n",
              "      <th>CA</th>\n",
              "      <td>34</td>\n",
              "      <td>9</td>\n",
              "      <td>0.264706</td>\n",
              "      <td>4</td>\n",
              "      <td>2</td>\n",
              "      <td>183.564706</td>\n",
              "      <td>190.322222</td>\n",
              "    </tr>\n",
              "    <tr>\n",
              "      <th>TX</th>\n",
              "      <td>72</td>\n",
              "      <td>18</td>\n",
              "      <td>0.250000</td>\n",
              "      <td>6</td>\n",
              "      <td>4</td>\n",
              "      <td>181.516667</td>\n",
              "      <td>216.438889</td>\n",
              "    </tr>\n",
              "    <tr>\n",
              "      <th>MD</th>\n",
              "      <td>70</td>\n",
              "      <td>17</td>\n",
              "      <td>0.242857</td>\n",
              "      <td>10</td>\n",
              "      <td>6</td>\n",
              "      <td>197.228571</td>\n",
              "      <td>230.200000</td>\n",
              "    </tr>\n",
              "    <tr>\n",
              "      <th>SC</th>\n",
              "      <td>60</td>\n",
              "      <td>14</td>\n",
              "      <td>0.233333</td>\n",
              "      <td>2</td>\n",
              "      <td>1</td>\n",
              "      <td>166.441667</td>\n",
              "      <td>213.564286</td>\n",
              "    </tr>\n",
              "    <tr>\n",
              "      <th>MI</th>\n",
              "      <td>73</td>\n",
              "      <td>16</td>\n",
              "      <td>0.219178</td>\n",
              "      <td>9</td>\n",
              "      <td>6</td>\n",
              "      <td>180.593151</td>\n",
              "      <td>197.662500</td>\n",
              "    </tr>\n",
              "    <tr>\n",
              "      <th>MS</th>\n",
              "      <td>65</td>\n",
              "      <td>14</td>\n",
              "      <td>0.215385</td>\n",
              "      <td>8</td>\n",
              "      <td>3</td>\n",
              "      <td>177.929231</td>\n",
              "      <td>196.664286</td>\n",
              "    </tr>\n",
              "    <tr>\n",
              "      <th>NV</th>\n",
              "      <td>66</td>\n",
              "      <td>14</td>\n",
              "      <td>0.212121</td>\n",
              "      <td>9</td>\n",
              "      <td>6</td>\n",
              "      <td>176.425758</td>\n",
              "      <td>215.435714</td>\n",
              "    </tr>\n",
              "    <tr>\n",
              "      <th>WA</th>\n",
              "      <td>66</td>\n",
              "      <td>14</td>\n",
              "      <td>0.212121</td>\n",
              "      <td>4</td>\n",
              "      <td>3</td>\n",
              "      <td>178.742424</td>\n",
              "      <td>214.771429</td>\n",
              "    </tr>\n",
              "    <tr>\n",
              "      <th>ME</th>\n",
              "      <td>62</td>\n",
              "      <td>13</td>\n",
              "      <td>0.209677</td>\n",
              "      <td>6</td>\n",
              "      <td>6</td>\n",
              "      <td>185.262903</td>\n",
              "      <td>194.661538</td>\n",
              "    </tr>\n",
              "    <tr>\n",
              "      <th>MT</th>\n",
              "      <td>68</td>\n",
              "      <td>14</td>\n",
              "      <td>0.205882</td>\n",
              "      <td>2</td>\n",
              "      <td>1</td>\n",
              "      <td>174.007353</td>\n",
              "      <td>178.907143</td>\n",
              "    </tr>\n",
              "    <tr>\n",
              "      <th>AR</th>\n",
              "      <td>55</td>\n",
              "      <td>11</td>\n",
              "      <td>0.200000</td>\n",
              "      <td>8</td>\n",
              "      <td>4</td>\n",
              "      <td>176.116364</td>\n",
              "      <td>178.672727</td>\n",
              "    </tr>\n",
              "    <tr>\n",
              "      <th>KS</th>\n",
              "      <td>70</td>\n",
              "      <td>13</td>\n",
              "      <td>0.185714</td>\n",
              "      <td>8</td>\n",
              "      <td>6</td>\n",
              "      <td>191.555714</td>\n",
              "      <td>217.900000</td>\n",
              "    </tr>\n",
              "    <tr>\n",
              "      <th>NY</th>\n",
              "      <td>83</td>\n",
              "      <td>15</td>\n",
              "      <td>0.180723</td>\n",
              "      <td>8</td>\n",
              "      <td>4</td>\n",
              "      <td>175.114458</td>\n",
              "      <td>197.380000</td>\n",
              "    </tr>\n",
              "    <tr>\n",
              "      <th>MN</th>\n",
              "      <td>84</td>\n",
              "      <td>15</td>\n",
              "      <td>0.178571</td>\n",
              "      <td>8</td>\n",
              "      <td>5</td>\n",
              "      <td>183.354762</td>\n",
              "      <td>208.273333</td>\n",
              "    </tr>\n",
              "    <tr>\n",
              "      <th>PA</th>\n",
              "      <td>45</td>\n",
              "      <td>8</td>\n",
              "      <td>0.177778</td>\n",
              "      <td>6</td>\n",
              "      <td>3</td>\n",
              "      <td>188.375556</td>\n",
              "      <td>192.387500</td>\n",
              "    </tr>\n",
              "    <tr>\n",
              "      <th>MA</th>\n",
              "      <td>65</td>\n",
              "      <td>11</td>\n",
              "      <td>0.169231</td>\n",
              "      <td>8</td>\n",
              "      <td>5</td>\n",
              "      <td>180.103077</td>\n",
              "      <td>225.054545</td>\n",
              "    </tr>\n",
              "    <tr>\n",
              "      <th>CT</th>\n",
              "      <td>74</td>\n",
              "      <td>12</td>\n",
              "      <td>0.162162</td>\n",
              "      <td>8</td>\n",
              "      <td>3</td>\n",
              "      <td>175.140541</td>\n",
              "      <td>233.466667</td>\n",
              "    </tr>\n",
              "    <tr>\n",
              "      <th>NC</th>\n",
              "      <td>68</td>\n",
              "      <td>11</td>\n",
              "      <td>0.161765</td>\n",
              "      <td>11</td>\n",
              "      <td>6</td>\n",
              "      <td>185.145588</td>\n",
              "      <td>199.427273</td>\n",
              "    </tr>\n",
              "    <tr>\n",
              "      <th>NH</th>\n",
              "      <td>56</td>\n",
              "      <td>9</td>\n",
              "      <td>0.160714</td>\n",
              "      <td>4</td>\n",
              "      <td>3</td>\n",
              "      <td>177.328571</td>\n",
              "      <td>188.877778</td>\n",
              "    </tr>\n",
              "    <tr>\n",
              "      <th>GA</th>\n",
              "      <td>54</td>\n",
              "      <td>8</td>\n",
              "      <td>0.148148</td>\n",
              "      <td>4</td>\n",
              "      <td>3</td>\n",
              "      <td>185.025926</td>\n",
              "      <td>222.200000</td>\n",
              "    </tr>\n",
              "    <tr>\n",
              "      <th>DE</th>\n",
              "      <td>61</td>\n",
              "      <td>9</td>\n",
              "      <td>0.147541</td>\n",
              "      <td>10</td>\n",
              "      <td>5</td>\n",
              "      <td>174.583607</td>\n",
              "      <td>182.333333</td>\n",
              "    </tr>\n",
              "    <tr>\n",
              "      <th>OK</th>\n",
              "      <td>61</td>\n",
              "      <td>9</td>\n",
              "      <td>0.147541</td>\n",
              "      <td>5</td>\n",
              "      <td>3</td>\n",
              "      <td>179.909836</td>\n",
              "      <td>209.411111</td>\n",
              "    </tr>\n",
              "    <tr>\n",
              "      <th>OR</th>\n",
              "      <td>78</td>\n",
              "      <td>11</td>\n",
              "      <td>0.141026</td>\n",
              "      <td>7</td>\n",
              "      <td>1</td>\n",
              "      <td>176.246154</td>\n",
              "      <td>236.390909</td>\n",
              "    </tr>\n",
              "    <tr>\n",
              "      <th>UT</th>\n",
              "      <td>72</td>\n",
              "      <td>10</td>\n",
              "      <td>0.138889</td>\n",
              "      <td>6</td>\n",
              "      <td>1</td>\n",
              "      <td>183.569444</td>\n",
              "      <td>203.980000</td>\n",
              "    </tr>\n",
              "    <tr>\n",
              "      <th>CO</th>\n",
              "      <td>66</td>\n",
              "      <td>9</td>\n",
              "      <td>0.136364</td>\n",
              "      <td>4</td>\n",
              "      <td>2</td>\n",
              "      <td>178.712121</td>\n",
              "      <td>217.955556</td>\n",
              "    </tr>\n",
              "    <tr>\n",
              "      <th>KY</th>\n",
              "      <td>59</td>\n",
              "      <td>8</td>\n",
              "      <td>0.135593</td>\n",
              "      <td>4</td>\n",
              "      <td>2</td>\n",
              "      <td>173.754237</td>\n",
              "      <td>193.300000</td>\n",
              "    </tr>\n",
              "    <tr>\n",
              "      <th>SD</th>\n",
              "      <td>60</td>\n",
              "      <td>8</td>\n",
              "      <td>0.133333</td>\n",
              "      <td>5</td>\n",
              "      <td>2</td>\n",
              "      <td>189.690000</td>\n",
              "      <td>200.787500</td>\n",
              "    </tr>\n",
              "    <tr>\n",
              "      <th>OH</th>\n",
              "      <td>78</td>\n",
              "      <td>10</td>\n",
              "      <td>0.128205</td>\n",
              "      <td>9</td>\n",
              "      <td>3</td>\n",
              "      <td>183.274359</td>\n",
              "      <td>234.930000</td>\n",
              "    </tr>\n",
              "    <tr>\n",
              "      <th>FL</th>\n",
              "      <td>63</td>\n",
              "      <td>8</td>\n",
              "      <td>0.126984</td>\n",
              "      <td>8</td>\n",
              "      <td>2</td>\n",
              "      <td>179.533333</td>\n",
              "      <td>194.625000</td>\n",
              "    </tr>\n",
              "    <tr>\n",
              "      <th>IN</th>\n",
              "      <td>71</td>\n",
              "      <td>9</td>\n",
              "      <td>0.126761</td>\n",
              "      <td>3</td>\n",
              "      <td>0</td>\n",
              "      <td>196.525352</td>\n",
              "      <td>201.411111</td>\n",
              "    </tr>\n",
              "    <tr>\n",
              "      <th>ID</th>\n",
              "      <td>73</td>\n",
              "      <td>9</td>\n",
              "      <td>0.123288</td>\n",
              "      <td>6</td>\n",
              "      <td>1</td>\n",
              "      <td>178.619178</td>\n",
              "      <td>186.677778</td>\n",
              "    </tr>\n",
              "    <tr>\n",
              "      <th>WY</th>\n",
              "      <td>77</td>\n",
              "      <td>9</td>\n",
              "      <td>0.116883</td>\n",
              "      <td>10</td>\n",
              "      <td>3</td>\n",
              "      <td>180.170130</td>\n",
              "      <td>237.844444</td>\n",
              "    </tr>\n",
              "    <tr>\n",
              "      <th>MO</th>\n",
              "      <td>63</td>\n",
              "      <td>7</td>\n",
              "      <td>0.111111</td>\n",
              "      <td>6</td>\n",
              "      <td>1</td>\n",
              "      <td>170.506349</td>\n",
              "      <td>214.214286</td>\n",
              "    </tr>\n",
              "    <tr>\n",
              "      <th>VT</th>\n",
              "      <td>73</td>\n",
              "      <td>8</td>\n",
              "      <td>0.109589</td>\n",
              "      <td>6</td>\n",
              "      <td>2</td>\n",
              "      <td>182.031507</td>\n",
              "      <td>211.375000</td>\n",
              "    </tr>\n",
              "    <tr>\n",
              "      <th>AL</th>\n",
              "      <td>80</td>\n",
              "      <td>8</td>\n",
              "      <td>0.100000</td>\n",
              "      <td>8</td>\n",
              "      <td>3</td>\n",
              "      <td>186.010000</td>\n",
              "      <td>205.675000</td>\n",
              "    </tr>\n",
              "    <tr>\n",
              "      <th>NM</th>\n",
              "      <td>62</td>\n",
              "      <td>6</td>\n",
              "      <td>0.096774</td>\n",
              "      <td>5</td>\n",
              "      <td>2</td>\n",
              "      <td>171.429032</td>\n",
              "      <td>186.783333</td>\n",
              "    </tr>\n",
              "    <tr>\n",
              "      <th>ND</th>\n",
              "      <td>62</td>\n",
              "      <td>6</td>\n",
              "      <td>0.096774</td>\n",
              "      <td>8</td>\n",
              "      <td>1</td>\n",
              "      <td>187.338710</td>\n",
              "      <td>203.516667</td>\n",
              "    </tr>\n",
              "    <tr>\n",
              "      <th>WV</th>\n",
              "      <td>106</td>\n",
              "      <td>10</td>\n",
              "      <td>0.094340</td>\n",
              "      <td>7</td>\n",
              "      <td>2</td>\n",
              "      <td>173.950943</td>\n",
              "      <td>181.090000</td>\n",
              "    </tr>\n",
              "    <tr>\n",
              "      <th>TN</th>\n",
              "      <td>53</td>\n",
              "      <td>5</td>\n",
              "      <td>0.094340</td>\n",
              "      <td>6</td>\n",
              "      <td>2</td>\n",
              "      <td>175.771698</td>\n",
              "      <td>208.820000</td>\n",
              "    </tr>\n",
              "    <tr>\n",
              "      <th>DC</th>\n",
              "      <td>54</td>\n",
              "      <td>5</td>\n",
              "      <td>0.092593</td>\n",
              "      <td>5</td>\n",
              "      <td>0</td>\n",
              "      <td>171.379630</td>\n",
              "      <td>188.600000</td>\n",
              "    </tr>\n",
              "    <tr>\n",
              "      <th>RI</th>\n",
              "      <td>65</td>\n",
              "      <td>6</td>\n",
              "      <td>0.092308</td>\n",
              "      <td>10</td>\n",
              "      <td>3</td>\n",
              "      <td>167.478462</td>\n",
              "      <td>199.550000</td>\n",
              "    </tr>\n",
              "    <tr>\n",
              "      <th>WI</th>\n",
              "      <td>78</td>\n",
              "      <td>7</td>\n",
              "      <td>0.089744</td>\n",
              "      <td>8</td>\n",
              "      <td>3</td>\n",
              "      <td>179.130769</td>\n",
              "      <td>214.571429</td>\n",
              "    </tr>\n",
              "    <tr>\n",
              "      <th>IL</th>\n",
              "      <td>58</td>\n",
              "      <td>5</td>\n",
              "      <td>0.086207</td>\n",
              "      <td>15</td>\n",
              "      <td>5</td>\n",
              "      <td>173.591379</td>\n",
              "      <td>193.660000</td>\n",
              "    </tr>\n",
              "    <tr>\n",
              "      <th>NE</th>\n",
              "      <td>61</td>\n",
              "      <td>5</td>\n",
              "      <td>0.081967</td>\n",
              "      <td>3</td>\n",
              "      <td>0</td>\n",
              "      <td>177.465574</td>\n",
              "      <td>231.860000</td>\n",
              "    </tr>\n",
              "    <tr>\n",
              "      <th>LA</th>\n",
              "      <td>51</td>\n",
              "      <td>4</td>\n",
              "      <td>0.078431</td>\n",
              "      <td>1</td>\n",
              "      <td>0</td>\n",
              "      <td>178.376471</td>\n",
              "      <td>162.550000</td>\n",
              "    </tr>\n",
              "    <tr>\n",
              "      <th>IA</th>\n",
              "      <td>44</td>\n",
              "      <td>3</td>\n",
              "      <td>0.068182</td>\n",
              "      <td>0</td>\n",
              "      <td>0</td>\n",
              "      <td>177.613636</td>\n",
              "      <td>246.566667</td>\n",
              "    </tr>\n",
              "    <tr>\n",
              "      <th>VA</th>\n",
              "      <td>77</td>\n",
              "      <td>5</td>\n",
              "      <td>0.064935</td>\n",
              "      <td>9</td>\n",
              "      <td>3</td>\n",
              "      <td>177.244156</td>\n",
              "      <td>182.980000</td>\n",
              "    </tr>\n",
              "    <tr>\n",
              "      <th>AZ</th>\n",
              "      <td>64</td>\n",
              "      <td>4</td>\n",
              "      <td>0.062500</td>\n",
              "      <td>3</td>\n",
              "      <td>1</td>\n",
              "      <td>171.604687</td>\n",
              "      <td>200.175000</td>\n",
              "    </tr>\n",
              "    <tr>\n",
              "      <th>AK</th>\n",
              "      <td>52</td>\n",
              "      <td>3</td>\n",
              "      <td>0.057692</td>\n",
              "      <td>4</td>\n",
              "      <td>1</td>\n",
              "      <td>178.384615</td>\n",
              "      <td>159.900000</td>\n",
              "    </tr>\n",
              "    <tr>\n",
              "      <th>HI</th>\n",
              "      <td>53</td>\n",
              "      <td>3</td>\n",
              "      <td>0.056604</td>\n",
              "      <td>3</td>\n",
              "      <td>0</td>\n",
              "      <td>175.962264</td>\n",
              "      <td>236.200000</td>\n",
              "    </tr>\n",
              "  </tbody>\n",
              "</table>\n",
              "</div>"
            ],
            "text/plain": [
              "       Total users  Churn  ...  Total day minutes  Total day mins churned users\n",
              "State                      ...                                                 \n",
              "NJ              68     18  ...         196.225000                    231.483333\n",
              "CA              34      9  ...         183.564706                    190.322222\n",
              "TX              72     18  ...         181.516667                    216.438889\n",
              "MD              70     17  ...         197.228571                    230.200000\n",
              "SC              60     14  ...         166.441667                    213.564286\n",
              "MI              73     16  ...         180.593151                    197.662500\n",
              "MS              65     14  ...         177.929231                    196.664286\n",
              "NV              66     14  ...         176.425758                    215.435714\n",
              "WA              66     14  ...         178.742424                    214.771429\n",
              "ME              62     13  ...         185.262903                    194.661538\n",
              "MT              68     14  ...         174.007353                    178.907143\n",
              "AR              55     11  ...         176.116364                    178.672727\n",
              "KS              70     13  ...         191.555714                    217.900000\n",
              "NY              83     15  ...         175.114458                    197.380000\n",
              "MN              84     15  ...         183.354762                    208.273333\n",
              "PA              45      8  ...         188.375556                    192.387500\n",
              "MA              65     11  ...         180.103077                    225.054545\n",
              "CT              74     12  ...         175.140541                    233.466667\n",
              "NC              68     11  ...         185.145588                    199.427273\n",
              "NH              56      9  ...         177.328571                    188.877778\n",
              "GA              54      8  ...         185.025926                    222.200000\n",
              "DE              61      9  ...         174.583607                    182.333333\n",
              "OK              61      9  ...         179.909836                    209.411111\n",
              "OR              78     11  ...         176.246154                    236.390909\n",
              "UT              72     10  ...         183.569444                    203.980000\n",
              "CO              66      9  ...         178.712121                    217.955556\n",
              "KY              59      8  ...         173.754237                    193.300000\n",
              "SD              60      8  ...         189.690000                    200.787500\n",
              "OH              78     10  ...         183.274359                    234.930000\n",
              "FL              63      8  ...         179.533333                    194.625000\n",
              "IN              71      9  ...         196.525352                    201.411111\n",
              "ID              73      9  ...         178.619178                    186.677778\n",
              "WY              77      9  ...         180.170130                    237.844444\n",
              "MO              63      7  ...         170.506349                    214.214286\n",
              "VT              73      8  ...         182.031507                    211.375000\n",
              "AL              80      8  ...         186.010000                    205.675000\n",
              "NM              62      6  ...         171.429032                    186.783333\n",
              "ND              62      6  ...         187.338710                    203.516667\n",
              "WV             106     10  ...         173.950943                    181.090000\n",
              "TN              53      5  ...         175.771698                    208.820000\n",
              "DC              54      5  ...         171.379630                    188.600000\n",
              "RI              65      6  ...         167.478462                    199.550000\n",
              "WI              78      7  ...         179.130769                    214.571429\n",
              "IL              58      5  ...         173.591379                    193.660000\n",
              "NE              61      5  ...         177.465574                    231.860000\n",
              "LA              51      4  ...         178.376471                    162.550000\n",
              "IA              44      3  ...         177.613636                    246.566667\n",
              "VA              77      5  ...         177.244156                    182.980000\n",
              "AZ              64      4  ...         171.604687                    200.175000\n",
              "AK              52      3  ...         178.384615                    159.900000\n",
              "HI              53      3  ...         175.962264                    236.200000\n",
              "\n",
              "[51 rows x 7 columns]"
            ]
          },
          "metadata": {
            "tags": []
          },
          "execution_count": 50
        }
      ]
    },
    {
      "cell_type": "markdown",
      "metadata": {
        "id": "8zeccZOJbIQ0"
      },
      "source": [
        "International users who churned in the top 5 states"
      ]
    },
    {
      "cell_type": "code",
      "metadata": {
        "id": "UU_sa5bJbM_5",
        "colab": {
          "base_uri": "https://localhost:8080/"
        },
        "outputId": "e2c207b4-8d20-4a88-d43c-ba0d5fbacf3a"
      },
      "source": [
        "Churned_intl_users = State_report.head()['Churn_intl_users'].sum()\n",
        "Churned_intl_users"
      ],
      "execution_count": null,
      "outputs": [
        {
          "output_type": "execute_result",
          "data": {
            "text/plain": [
              "16"
            ]
          },
          "metadata": {
            "tags": []
          },
          "execution_count": 210
        }
      ]
    },
    {
      "cell_type": "markdown",
      "metadata": {
        "id": "agNOjBp0bWpL"
      },
      "source": [
        "Total International users in the top 5 states"
      ]
    },
    {
      "cell_type": "code",
      "metadata": {
        "id": "LIXAKCnHbWJY",
        "colab": {
          "base_uri": "https://localhost:8080/"
        },
        "outputId": "38618737-e565-4fa4-8dd4-09622e83bd00"
      },
      "source": [
        "Total_intl_users = State_report.head()['International plan'].sum()\n",
        "Total_intl_users"
      ],
      "execution_count": null,
      "outputs": [
        {
          "output_type": "execute_result",
          "data": {
            "text/plain": [
              "28"
            ]
          },
          "metadata": {
            "tags": []
          },
          "execution_count": 212
        }
      ]
    },
    {
      "cell_type": "markdown",
      "metadata": {
        "id": "hSSn4fDqbjiO"
      },
      "source": [
        "Percantage of International users who churned in the top 5 states"
      ]
    },
    {
      "cell_type": "code",
      "metadata": {
        "id": "o3gKyqIzaJhG",
        "colab": {
          "base_uri": "https://localhost:8080/"
        },
        "outputId": "bbab197d-8bb6-4db9-a924-066a9801babc"
      },
      "source": [
        "Churned_intl_users * 100/Total_intl_users"
      ],
      "execution_count": null,
      "outputs": [
        {
          "output_type": "execute_result",
          "data": {
            "text/plain": [
              "57.142857142857146"
            ]
          },
          "metadata": {
            "tags": []
          },
          "execution_count": 213
        }
      ]
    },
    {
      "cell_type": "markdown",
      "metadata": {
        "id": "B0RhPnUQZsMQ"
      },
      "source": [
        "So, International plan is playing a crucial role for higher rate of churning in the top 5 states.\n",
        "\n",
        "Also the Total day minutes for churned users in top 5 states is way more higher than the Total day minutes for all the users in these states. And charges of day calling is higher, that's why most of the people are churning."
      ]
    },
    {
      "cell_type": "markdown",
      "metadata": {
        "id": "u0ft7GyOc4jn"
      },
      "source": [
        "# **OUTCOMES**"
      ]
    },
    {
      "cell_type": "markdown",
      "metadata": {
        "id": "Fl1kSqFfc8-v"
      },
      "source": [
        "\n",
        "\n",
        "1.   Higher charges for day time calling as compare to evening and night, so the users talking more on day time likely to be churned.\n",
        "2.   No advantage of International plan as the charges are almost same for     users and non users which made International plan users to churn.\n",
        "3.   More than 3 number of Customer service calls results into higher rate of churning.\n",
        "\n",
        "\n"
      ]
    },
    {
      "cell_type": "markdown",
      "metadata": {
        "id": "6ZPgFRE0i6Z5"
      },
      "source": [
        "# **SUGGESTIONS**"
      ]
    },
    {
      "cell_type": "markdown",
      "metadata": {
        "id": "87-95VITk4Dt"
      },
      "source": [
        "1.   Charging rate should be managed especially for the day time.\n",
        "2.   Can provide incentives for talking more number of minutes.\n",
        "3.   International plan needs to be improved.\n",
        "4.   Grievance redressal for users should be tackled within 2-3 Customer service calls.\n",
        "5.   Focus on top 5 states where churning rate is higher."
      ]
    }
  ]
}